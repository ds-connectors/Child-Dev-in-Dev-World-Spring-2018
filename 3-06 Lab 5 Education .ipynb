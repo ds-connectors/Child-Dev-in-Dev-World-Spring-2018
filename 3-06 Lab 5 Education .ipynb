{
 "cells": [
  {
   "cell_type": "code",
   "execution_count": null,
   "metadata": {
    "collapsed": true
   },
   "outputs": [],
   "source": [
    "#Run this cell\n",
    "from datascience import *\n",
    "\n",
    "import matplotlib\n",
    "matplotlib.use('Agg', warn=False)\n",
    "%matplotlib inline\n",
    "import matplotlib.pyplot as plots\n",
    "plots.style.use('fivethirtyeight')\n",
    "import warnings\n",
    "warnings.simplefilter(action=\"ignore\", category=FutureWarning)"
   ]
  },
  {
   "cell_type": "markdown",
   "metadata": {},
   "source": [
    "# Introduction\n",
    "This lab is fairly straighforward, so there is minimal coding scaffolding provided.\n",
    "\n",
    "   1) [Years of Schooling](#1)\n",
    "   \n",
    "   2) [Delayed achievement](#2)\n"
   ]
  },
  {
   "cell_type": "code",
   "execution_count": null,
   "metadata": {
    "collapsed": false
   },
   "outputs": [],
   "source": [
    "# Use the data that you saved at the end of Lab 4  \n",
    "data = Table.read_table('Lab_4.csv')\n",
    "data"
   ]
  },
  {
   "cell_type": "markdown",
   "metadata": {},
   "source": [
    "<a id=\"1\"> </a>\n",
    "###  Years of Schooling \n",
    "\n",
    "You will be creating the variable years of education.  We are going to create this variable for all people in the survey so that in the future we can match parents education to the child.  Use the variables in your data to create a single \"Years of Schooling\" variable.  "
   ]
  },
  {
   "cell_type": "code",
   "execution_count": null,
   "metadata": {
    "collapsed": true
   },
   "outputs": [],
   "source": []
  },
  {
   "cell_type": "markdown",
   "metadata": {},
   "source": [
    "<font color=\"Blue\"> Item 1: We can do a quick check that the schooling makes sense and that people do not have more years of education than years of life.  Do a scatter plot comparing \"Age (in years)\" to \"Years of Schooling\" (without the -99 values)."
   ]
  },
  {
   "cell_type": "code",
   "execution_count": null,
   "metadata": {
    "collapsed": true
   },
   "outputs": [],
   "source": []
  },
  {
   "cell_type": "markdown",
   "metadata": {},
   "source": [
    "Though we haven't studied the countries' education system, we can learn from the data.  \n",
    "<font color=\"Blue\"> Item 2: For adults over age 22, make a histogram of years of schooling.  Confirm the spikes make sense as natural levels with a little internet research on your countries' schooling system.  "
   ]
  },
  {
   "cell_type": "code",
   "execution_count": null,
   "metadata": {
    "collapsed": true
   },
   "outputs": [],
   "source": []
  },
  {
   "cell_type": "markdown",
   "metadata": {},
   "source": [
    "Let's examine education by sex.  <font color=\"Blue\"> Item 3: Make a data visualization that contrasts the grade in school by boys & girls by the different ages.  What do you notice?"
   ]
  },
  {
   "cell_type": "markdown",
   "metadata": {},
   "source": [
    "<a id=\"2\"> </a>\n",
    "### Delayed Acheivment\n",
    "\n",
    "Now we will explore children's schooling.  First, use the data to determine at age children typically start and end school in your country.  <font color=\"Blue\"> Item 4: For each age between the ages determined, make a chart of which grade most of the children are in. "
   ]
  },
  {
   "cell_type": "markdown",
   "metadata": {},
   "source": [
    "  "
   ]
  },
  {
   "cell_type": "markdown",
   "metadata": {},
   "source": [
    "If any of the kids are 2 grades or more behind the modal grade illustrated in the chart, we will consider them to be delayed, or over-age-for-grade.  Make a new column \"Delayed\" with 0 being not delayed and 1 being delayed.  To do this, you may want to join the chart made above with the children's ages.  \n",
    "\n",
    "If using the data science join you may want to expand the chart above to include all ages. (The modal grade for those outside your original range can be -99). This way the join does not reduce the number of people in your data set."
   ]
  },
  {
   "cell_type": "code",
   "execution_count": null,
   "metadata": {
    "collapsed": true
   },
   "outputs": [],
   "source": []
  },
  {
   "cell_type": "markdown",
   "metadata": {},
   "source": [
    "<font color=\"Blue\"> Item 5: Make a data visualization that illustrates the portion delayed at each age.  Is it what you expected & why?"
   ]
  },
  {
   "cell_type": "code",
   "execution_count": null,
   "metadata": {
    "collapsed": true
   },
   "outputs": [],
   "source": []
  },
  {
   "cell_type": "markdown",
   "metadata": {},
   "source": [
    "Save your data Lab_5.csv.  It should be the same as in Lab 4, but we've added the variables \"Years of Schooling\" and \"Delayed.\"  Do a sanity check to make sure everything else has been preserved."
   ]
  },
  {
   "cell_type": "code",
   "execution_count": null,
   "metadata": {
    "collapsed": true
   },
   "outputs": [],
   "source": []
  }
 ],
 "metadata": {
  "kernelspec": {
   "display_name": "Python [ds8]",
   "language": "python",
   "name": "Python [ds8]"
  },
  "language_info": {
   "codemirror_mode": {
    "name": "ipython",
    "version": 3
   },
   "file_extension": ".py",
   "mimetype": "text/x-python",
   "name": "python",
   "nbconvert_exporter": "python",
   "pygments_lexer": "ipython3",
   "version": "3.5.2"
  }
 },
 "nbformat": 4,
 "nbformat_minor": 0
}
