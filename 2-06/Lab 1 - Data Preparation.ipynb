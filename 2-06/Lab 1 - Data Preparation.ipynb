{
 "cells": [
  {
   "cell_type": "code",
   "execution_count": null,
   "metadata": {
    "collapsed": true
   },
   "outputs": [],
   "source": [
    "# make sure to run this cell\n",
    "from datascience import *\n",
    "import numpy as np\n",
    "import matplotlib.pyplot as plt\n",
    "import warnings\n",
    "\n",
    "%matplotlib inline\n",
    "plt.style.use('fivethirtyeight')\n",
    "warnings.simplefilter(action=\"ignore\", category=FutureWarning)"
   ]
  },
  {
   "cell_type": "markdown",
   "metadata": {},
   "source": [
    "# Welcome to the first lab!\n",
    "\n",
    "I. [Data Preperation](#prep)\n",
    "\n",
    "II. [Cleaning the Data](#clean)\n",
    "\n",
    "&nbsp;&nbsp;&nbsp;&nbsp;&nbsp;&nbsp;1 - [Filling in Missing Values](#fill)\n",
    "    \n",
    "&nbsp;&nbsp;&nbsp;&nbsp;&nbsp;&nbsp;2 - [Selecting](#select)\n",
    "    \n",
    "&nbsp;&nbsp;&nbsp;&nbsp;&nbsp;&nbsp;3 - [Renaming](#rename)\n",
    "    \n",
    "&nbsp;&nbsp;&nbsp;&nbsp;&nbsp;&nbsp;4 - [Saving](#save)\n",
    "\n",
    "III. [Inspecting the Values](#inspect)\n",
    "\n",
    "\n",
    "To get credit for doing your lab, you will need to prepare a document that contains answers to the items in <font color=\"blue\"> blue</font>.  Some answers can be typed in.  If a figure is required, you can take a screen shot and paste it in.  Once you have finished all the answers, turn your document into a pdf and turn in the lab by uploading it to bcourses assignments.  "
   ]
  },
  {
   "cell_type": "markdown",
   "metadata": {},
   "source": [
    "## Data Preparation <a id='prep'></a>\n",
    "   \n",
    "It's time to do some data cleaning and prepare for later analyses!\n",
    "Go to the [LSMS Survey Finder](http://iresearch.worldbank.org/lsms/lsmssurveyFinder.htm) site. Use the Survey Finder to select your country and year.\n",
    "\n",
    "You will see two links – one for documentation and one for data.  You will use them both throughout the semester.  \n",
    "\n",
    "### Data: \n",
    "\n",
    "You will be using a data set that we've created for you (for now). Later, you will be downloading all of the data yourself.\n",
    "\n",
    "### Documentation:\n",
    "There are probably more materials here than you will need.  You can save these files to Jupyter for convenience.  Make sure you download:\n",
    "\n",
    "     •\tThe household questionnaire in English (If there are multiple labeled questionaires, focus on the household questionnaire.  We will not be suign the community or agricultural questionnaires, for example.\n",
    "    \n",
    "     •\tThe code book (if available)\n",
    "    \n",
    "     •\tSurvey methodolodgy document\n",
    "    \n",
    "     •\tYou may wish to explore the other documents, but they may not be needed.  Anyway, now you know where to find them!  Or you can download them all just in case. \n",
    "     \n",
    "Somewhere in the survey methodology document, codebook, or questionnaire, you will find codes for missing data. Since a blank space may mean the question was skipped, to indicate the question was indeed covered but the answer was unknown, or the respondent refused to answer, there is a code."
   ]
  },
  {
   "cell_type": "markdown",
   "metadata": {
    "collapsed": true
   },
   "source": [
    "<font color=\"blue\"> Item 1: What are the codes for missing data?  Indicate in which document and what page you found this on."
   ]
  },
  {
   "cell_type": "markdown",
   "metadata": {},
   "source": [
    "## Cleaning the Data <a id='clean'></a>\n",
    "\n",
    "We will begin working with information in the handout you filled out last week. (See Table for data codes in Bcourses \"files\" if you need to print an extra copy.)  Most of this information will be found in the household roster data set. "
   ]
  },
  {
   "cell_type": "markdown",
   "metadata": {},
   "source": [
    "This first data set is in csv format, so you can create a table the same way that you've seen in Data 8, with `read_table`. Later, you will see them in Stata format (.dta), which is used by Stata, a statistical software commonly used by economists and researchers in public health. Those files will require a little bit more work to access, which is why we will do this later in the semester.\n",
    "\n",
    "You can find the file within your computer, or you can upload the country's csv file to Jupyter.\n",
    "Read in the roster table."
   ]
  },
  {
   "cell_type": "code",
   "execution_count": null,
   "metadata": {
    "collapsed": false
   },
   "outputs": [],
   "source": [
    "filename = '../../roster_datasets/country_roster.csv'\n",
    "roster = Table.read_table(filename)\n",
    "\n",
    "roster.show(10)"
   ]
  },
  {
   "cell_type": "markdown",
   "metadata": {},
   "source": [
    "### Filling in missing values <a id='fill'></a>\n",
    "\n",
    "If you look at your table, you'll likely see `nan` in many of the spots. [NaN](https://en.wikipedia.org/wiki/NaN) values primarily appear when there is a missing value, and can make working with data difficult. To combat that, we will replace those placeholders with something easier to manipulate.\n",
    "\n",
    "Note: `pandas` is a module that is very similar to `datascience`, but has many additional functions. With the greater functionality comes a less intuitive interface, so for the bulk of our analyses, we will use `datascience` tables. \n",
    "You are able to convert a table to the `pandas` version of a table (called a dataframe) with the `to_df` method.\n",
    "\n",
    "For right now, we are going to use the `pandas` `fillna` method to fill in missing values in our table. It will replace all missing values with a specified value. Here is how we are going to do this:\n",
    "\n",
    "1. Convert table to a dataframe (pandas) using `.to_df` ([docs](http://data8.org/datascience/_autosummary/datascience.tables.Table.to_df.html?highlight=to_df#datascience.tables.Table.to_df))\n",
    "2. Use the `fillna` ([docs](https://pandas.pydata.org/pandas-docs/stable/generated/pandas.DataFrame.fillna.html)) method with the value -99 \n",
    "3. Create a datascience table from that altered dataframe using `.from_df` ([docs](http://data8.org/datascience/_autosummary/datascience.tables.Table.from_df.html?highlight=from_df#datascience.tables.Table.from_df))"
   ]
  },
  {
   "cell_type": "markdown",
   "metadata": {},
   "source": [
    "#### Step 1. Converting"
   ]
  },
  {
   "cell_type": "code",
   "execution_count": null,
   "metadata": {
    "collapsed": false
   },
   "outputs": [],
   "source": [
    "dataframe = roster.to_df()\n",
    "dataframe.head() # head limits the number of rows shows, just like show for datascience tables"
   ]
  },
  {
   "cell_type": "markdown",
   "metadata": {},
   "source": [
    "#### Step 2. Filling"
   ]
  },
  {
   "cell_type": "code",
   "execution_count": null,
   "metadata": {
    "collapsed": false
   },
   "outputs": [],
   "source": [
    "altered = dataframe.fillna(-99)\n",
    "altered.head()"
   ]
  },
  {
   "cell_type": "markdown",
   "metadata": {},
   "source": [
    "#### Step 3. Making Table"
   ]
  },
  {
   "cell_type": "code",
   "execution_count": null,
   "metadata": {
    "collapsed": false
   },
   "outputs": [],
   "source": [
    "roster = Table.from_df(altered)\n",
    "roster.show(5)"
   ]
  },
  {
   "cell_type": "markdown",
   "metadata": {},
   "source": [
    "You can see the variable names in the table, but the questions are not obvious.  The next data preparation task is to rename the columns to more intuitive names than the codes that are used.  We will rename the variables (columns) in the data tables so that everyone in the class has the same variable (column) name.  This means the code I give you in the future can be used by everyone, even though we are using different data."
   ]
  },
  {
   "cell_type": "markdown",
   "metadata": {},
   "source": [
    "### Filling in the Table in the Handout and Selecting Columns <a id='select'></a>\n",
    "You have already used your codebook or questionnaire to identify the variable  names of each of the items.  Having a codebook should make this task a lot easier.  If you do not have a codebook and are using the questionnaire, the variable (column) name code is likely a combination of the module and question number.  For example, the household roster may be in module 1 and the question about age is question 4.  The name of this variable (column) in the data set is likely to be q0104 or some variation of this (e.g Q_01_04).  \n",
    "\n",
    "For all the variables in the household roster, you can use the above table (where you imported the household roster) to confirm that the codes are correct.  For example, if it does look like your column names are in the q0401 format, for example, you can search for this name in the above table and confirm that the data looks like what you expect.  "
   ]
  },
  {
   "cell_type": "code",
   "execution_count": null,
   "metadata": {
    "collapsed": false
   },
   "outputs": [],
   "source": [
    "# you can use this cell to call all of the column names if you want to examine further.\n",
    "roster.labels"
   ]
  },
  {
   "cell_type": "code",
   "execution_count": null,
   "metadata": {
    "collapsed": false
   },
   "outputs": [],
   "source": [
    "# select all the variables from the sheet found in the roster file and examine their values\n",
    "# feel free to extend the number of columns\n",
    "\n",
    "roster_vars = ['household_id', 'individual_id', '...', '...', '...', '...', .........]\n",
    "\n",
    "selected_roster = roster.select(roster_vars)\n",
    "selected_roster"
   ]
  },
  {
   "cell_type": "markdown",
   "metadata": {},
   "source": [
    "Do the values make sense? If you thought \"age in years\" was columnn q0401 but the values are mostly above 1000, or place location names, you will need to keep thinking!  Try a different code. Double check the wording on the questionnaire.  (Maybe yours survey does not have age in years, but age in days.  Then maybe the large numbers make sense.) \n",
    "\n",
    "For sex, you may expect M & F to be the responses.  You may instead see 0 & 1 or 1 & 2. Check the questionnaire or the codebook to see if these are codes for male & female.  \n",
    "\n",
    "Talk to me if your data do not align well with the expected responses."
   ]
  },
  {
   "cell_type": "markdown",
   "metadata": {},
   "source": [
    "<font color=\"blue\"> Item 2: What variables do you have that did not have obvious values?  Using the codebook or questionaire, write what the codes are for future reference. </font>"
   ]
  },
  {
   "cell_type": "markdown",
   "metadata": {},
   "source": [
    "### Renaming Variables <a id='rename'></a>\n",
    "Now that you have identified all the variables you will need and identified their column names, let's rename the variables. Select and rename the columns of the roster table, plugging in each Original Name Code - you may have to go back & check what you named your table. Assign this table to a new variable.  Maintain capitalization & spaces to be consistent with everyone else! \n",
    "\n",
    "First, select the variables you want to keep (i.e. the ones on the sheet you filled out), and assign these to a new variable.\n",
    "Next, rename the columns to the names indicated in the document you filled out earlier, and save this as your final version of the table."
   ]
  },
  {
   "cell_type": "markdown",
   "metadata": {},
   "source": [
    "- Household ID\n",
    "- Individual ID\n",
    "- Sex\n",
    "- Birthdate\n",
    "- etc."
   ]
  },
  {
   "cell_type": "code",
   "execution_count": null,
   "metadata": {
    "collapsed": false
   },
   "outputs": [],
   "source": [
    "# select all the variables in the roster file and rename them to the desired names\n",
    "# make sure that each of the lists are of the same length and that the corresponding variables have matching positions\n",
    "# you can extend the list's length to include all of your variables\n",
    "\n",
    "# you can copy roster_vars from above so it is easier to reference\n",
    "roster_vars = ['household_id', 'individual_id', '...', '...', .....]\n",
    "roster_name_vars = ['Household ID', 'Individual ID', 'Sex', .......]\n",
    "\n",
    "roster_renamed = selected_roster.relabel(roster_vars, roster_name_vars)\n",
    "roster_renamed"
   ]
  },
  {
   "cell_type": "markdown",
   "metadata": {},
   "source": [
    "<font color=\"blue\"> Item 3: Copy and paste the first two households from your table. </font>"
   ]
  },
  {
   "cell_type": "markdown",
   "metadata": {},
   "source": [
    "### Save your dataset <a id='save'></a>\n",
    "\n",
    "For now, this table is what we will be using in class. Later we will add to this table. Let's save the data set!  You can choose your own file name, but it might be easier if we all use the name of the file provided below so code is consistent. Name this file `Data_L1` and save it in the same folder as Lab 1. To save a table as a csv file, use the method `.to_csv` ([docs](http://data8.org/datascience/_autosummary/datascience.tables.Table.to_csv.html?highlight=to_csv#datascience.tables.Table.to_csv))."
   ]
  },
  {
   "cell_type": "code",
   "execution_count": null,
   "metadata": {
    "collapsed": true
   },
   "outputs": [],
   "source": [
    "roster_renamed.to_csv('Data_L1.csv')"
   ]
  },
  {
   "cell_type": "markdown",
   "metadata": {},
   "source": [
    "## Inspecting the Values<a id='inspect'></a>"
   ]
  },
  {
   "cell_type": "markdown",
   "metadata": {},
   "source": [
    "Now that we have the data in useable shape, look at the values with more scrutiny. We'll start by using the method `group` to get counts of each unique values for the table. First we'll look at the column `Height`."
   ]
  },
  {
   "cell_type": "code",
   "execution_count": null,
   "metadata": {
    "collapsed": false
   },
   "outputs": [],
   "source": [
    "grouped_height = roster_renamed.group('Height')\n",
    "grouped_height"
   ]
  },
  {
   "cell_type": "markdown",
   "metadata": {},
   "source": [
    "If you sort by the `count` column, you can find the most and least frequent values."
   ]
  },
  {
   "cell_type": "code",
   "execution_count": null,
   "metadata": {
    "collapsed": false
   },
   "outputs": [],
   "source": [
    "grouped_height.sort('...')"
   ]
  },
  {
   "cell_type": "code",
   "execution_count": null,
   "metadata": {
    "collapsed": false
   },
   "outputs": [],
   "source": [
    "grouped_height.sort('count', descending=True)"
   ]
  },
  {
   "cell_type": "markdown",
   "metadata": {},
   "source": [
    "This can also be done on the `Age in Years` column to find the least and greatest values."
   ]
  },
  {
   "cell_type": "code",
   "execution_count": null,
   "metadata": {
    "collapsed": false
   },
   "outputs": [],
   "source": [
    "grouped_height.sort('...')"
   ]
  },
  {
   "cell_type": "code",
   "execution_count": null,
   "metadata": {
    "collapsed": false
   },
   "outputs": [],
   "source": [
    "grouped_height.sort('...', descending=...)"
   ]
  },
  {
   "cell_type": "markdown",
   "metadata": {},
   "source": [
    "Throwing this information into a visualization might be more helpful. Use a historgram with custom bins to figure out the same things that were found above in the previous lines."
   ]
  },
  {
   "cell_type": "code",
   "execution_count": null,
   "metadata": {
    "collapsed": false
   },
   "outputs": [],
   "source": [
    "roster_renamed.hist('Height', bins=np.arange(0, 100))"
   ]
  },
  {
   "cell_type": "markdown",
   "metadata": {},
   "source": [
    "<font color=\"blue\"> Item 4: Paste the height histogram in your document."
   ]
  },
  {
   "cell_type": "markdown",
   "metadata": {},
   "source": [
    "Add more cells below and try repeating this process for other variables. Do you notice anything odd about the data? (Note that some variables that are categorical, and so bar charts should be used instead of histograms.)"
   ]
  },
  {
   "cell_type": "markdown",
   "metadata": {},
   "source": [
    "<font color=\"blue\"> Item 5: Make notes on any of the variables that look strange or  have peculiar values."
   ]
  },
  {
   "cell_type": "markdown",
   "metadata": {},
   "source": [
    "### Using .stats\n",
    "\n",
    "There is a `stats` ([docs](http://data8.org/datascience/_autosummary/datascience.tables.Table.stats.html?highlight=stats#datascience.tables.Table.stats)) method for tables that gives a summary of some descriptive statistics for numerical columns. Use that method below."
   ]
  },
  {
   "cell_type": "code",
   "execution_count": null,
   "metadata": {
    "collapsed": false
   },
   "outputs": [],
   "source": [
    "roster_renamed.stats()"
   ]
  },
  {
   "cell_type": "markdown",
   "metadata": {},
   "source": [
    "The maximum for each stat should be accurate, but you might notice that the minimum and median seem to be affected by the placeholder for missing values. Run the lines below to get rid of -99 before computing each statistic."
   ]
  },
  {
   "cell_type": "code",
   "execution_count": null,
   "metadata": {
    "collapsed": true
   },
   "outputs": [],
   "source": [
    "def make_modified_function(func):\n",
    "    def fun(col):\n",
    "        return func(col[(col != -99)])\n",
    "    fun.__name__ = 'modified ' + func.__name__\n",
    "    return fun"
   ]
  },
  {
   "cell_type": "code",
   "execution_count": null,
   "metadata": {
    "collapsed": false
   },
   "outputs": [],
   "source": [
    "roster_renamed.stats(ops=[make_modified_function(f) for f in [min, max, np.median, sum]])"
   ]
  },
  {
   "cell_type": "markdown",
   "metadata": {},
   "source": [
    "<font color=\"blue\"> Item 6: Paste the above table into your answer sheet."
   ]
  },
  {
   "cell_type": "markdown",
   "metadata": {},
   "source": [
    "#### Congratulations, you've completed your first lab! Make sure to save this notebook and make sure that you've saved your data set (we'll be using it next week), and to turn in your document."
   ]
  }
 ],
 "metadata": {
  "anaconda-cloud": {},
  "kernelspec": {
   "display_name": "Python [Root]",
   "language": "python",
   "name": "Python [Root]"
  },
  "language_info": {
   "codemirror_mode": {
    "name": "ipython",
    "version": 3
   },
   "file_extension": ".py",
   "mimetype": "text/x-python",
   "name": "python",
   "nbconvert_exporter": "python",
   "pygments_lexer": "ipython3",
   "version": "3.5.2"
  }
 },
 "nbformat": 4,
 "nbformat_minor": 1
}
