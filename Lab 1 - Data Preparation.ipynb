{
 "cells": [
  {
   "cell_type": "code",
   "execution_count": null,
   "metadata": {
    "collapsed": true
   },
   "outputs": [],
   "source": []
  },
  {
   "cell_type": "code",
   "execution_count": null,
   "metadata": {
    "collapsed": true
   },
   "outputs": [],
   "source": [
    "# run this cell\n",
    "from datascience import *\n",
    "from pandas import read_stata\n",
    "import numpy as np\n",
    "\n",
    "import matplotlib\n",
    "matplotlib.use('Agg', warn=False)\n",
    "%matplotlib inline\n",
    "import matplotlib.pyplot as plots\n",
    "plots.style.use('fivethirtyeight')\n",
    "import warnings\n",
    "warnings.simplefilter(action=\"ignore\", category=FutureWarning)"
   ]
  },
  {
   "cell_type": "markdown",
   "metadata": {},
   "source": [
    "# Welcome to the first lab!\n",
    "To get credit for doing your lab, you will need to prepare a document that contains answers to the items in <font color=\"blue\"> blue</font>.  Some answers can be typed in.  If a figure is required, you can take a screen shot and paste it in.  Once you have finished all the answers, turn your document into a pdf and turn in the lab by uploading it to bcourses assignments.  \n",
    "\n",
    "Usually lab is due by midnight on Thursday, but the first lab we will be doing over for two weeks, so it will be due the Thurusday the 8th."
   ]
  },
  {
   "cell_type": "markdown",
   "metadata": {},
   "source": [
    "# Data Preparation\n",
    "   \n",
    "It's time to import some data and prepare for later analyses!"
   ]
  },
  {
   "cell_type": "markdown",
   "metadata": {},
   "source": [
    "Go to the Living Standards and Measurement Survey (LSMS) World Bank site.\n",
    "(You may google “LSMS World Bank Data” or use the link below)\n",
    "http://econ.worldbank.org/WBSITE/EXTERNAL/EXTDEC/EXTRESEARCH/EXTLSMS/0,,menuPK:3359053~pagePK:64168427~piPK:64168435~theSitePK:3358997,00.html\n",
    "\n",
    "Click on \"Data\" located in the left column & use the \"Survey Finder\" to select your country and year.\n",
    "\n",
    "You will see two links – one for documentation and one for data, both will be used.  "
   ]
  },
  {
   "cell_type": "markdown",
   "metadata": {},
   "source": [
    "### Data: \n",
    "Download all data (likely in a zip file) after signing the data use agreement.  Then upzip the folder.  Upload the Stata (.dta) data sets to Jupyter (into the same folder that contains this lab). \n"
   ]
  },
  {
   "cell_type": "markdown",
   "metadata": {
    "collapsed": true
   },
   "source": [
    "<font color=\"blue\"> Item 1: Write what you have promised to do in the agreement. </font>\n"
   ]
  },
  {
   "cell_type": "markdown",
   "metadata": {},
   "source": [
    "### Documentation:\n",
    "There are probably more materials here than you will need.  You can save these files to Jupyter for convenience.  Make sure you download\n",
    "\n",
    "     •\tThe household questionnaire in English (If there are multiple labeled questionaires, focus on the household questionnaire.  We will not be using the community or agricultural questionnaires, for example.\n",
    "    \n",
    "     •\tThe code book (if available)\n",
    "    \n",
    "     •\tSurvey methodolodgy document\n",
    "    \n",
    "     •\tYou may wish to explore the other documents, but they may not be needed.  Anyway, now you know where to find them!  Or you can download them all just in case. \n",
    "     \n",
    "Somewhere in the survey methodology document, codebook, or questionnaire, you will find codes for missing data. Since a blank space may mean the question was skipped, to indicate the question was indeed covered but the answer was unknown, or the respondent refused to answer, there is a code."
   ]
  },
  {
   "cell_type": "markdown",
   "metadata": {
    "collapsed": true
   },
   "source": [
    "<font color=\"blue\"> Item 2: What are the codes for missing data?  Indicate in which document and what page you found this on. </font>"
   ]
  },
  {
   "cell_type": "markdown",
   "metadata": {},
   "source": [
    "## Exploring the Data\n",
    "\n",
    "We will begin working with information in the table in the handout. (See Table for data codes in Bcourses \"files\" if you need to print an extra copy.)  Most of this information will be found in the household roster data set. "
   ]
  },
  {
   "cell_type": "code",
   "execution_count": null,
   "metadata": {
    "collapsed": true
   },
   "outputs": [],
   "source": [
    "# Make a note to yourself here:\n",
    "# What is the name of the file of your household data set?"
   ]
  },
  {
   "cell_type": "markdown",
   "metadata": {},
   "source": [
    "The data sets are in Stata format (.dta), the statistical software commonly used by economists and researchers in public health. Python does not directly read .dta files.  To allow us to use it in Python, use the function read_stata in the pandas package from notebook in Jupyter.  Plug in the name of your household data set in the code below."
   ]
  },
  {
   "cell_type": "code",
   "execution_count": null,
   "metadata": {
    "collapsed": false
   },
   "outputs": [],
   "source": [
    "# replace the file name with that of the one in your server\n",
    "# fillna(-99) replaces missing values with -99, which are easier for us to work with than Python's \"nan\"\n",
    "\n",
    "roster=Table.from_df(read_stata('***INSERT FILE NAME HERE WITH FILE PATH***', convert_categoricals=False).fillna(-99))\n",
    "roster"
   ]
  },
  {
   "cell_type": "markdown",
   "metadata": {},
   "source": [
    "You can see the answers to the questions in the table, but the questions are not obvious.  The next data preparation task is to rename the columns to more intuitive names than the codes that are used.  We will rename the variables (columns) in the data tables so that everyone in the class has the same variable (column) name.  This means the code I give you in the future can be used by everyone, even though we are using different data."
   ]
  },
  {
   "cell_type": "markdown",
   "metadata": {},
   "source": [
    "### Filling in the Table in the Handout\n",
    "Before starting in on Python, use your codebook or questionnaire to identify the codes of each of the items.  With a codebook, it will be quite easy.  If you do not have a codebook and are using the questionnaire, the variable (column) name code is likely a combination of the module and question number.  For example, the household roster may be in module 1 and the question about age is question 4.  The name of this variable (column) in the data set is likely to be q0104 or some variation of this (e.g q_01_04).  \n",
    "\n",
    "For all the variables in the household roster, you can use the above table (where you imported the household roster) to confirm that the codes are correct.  For example, if it does look like your column names are in the q0401 format, for example, you can search for this name in the above table and confirm that the data looks like what you expect.  "
   ]
  },
  {
   "cell_type": "code",
   "execution_count": null,
   "metadata": {
    "collapsed": false
   },
   "outputs": [],
   "source": [
    "#select all the variables in the roster file and examine their values\n",
    "#feel free to extend the amount of columns\n",
    "\n",
    "roster2 = roster.select(['***COLUMN NAME***', '***COLUMN NAME***', '***COLUMN NAME***'])\n",
    "roster2"
   ]
  },
  {
   "cell_type": "markdown",
   "metadata": {},
   "source": [
    "Do the values make sense? If you thought \"age in years\" was columnn q0401 but the values are mostly above 1000, or place location names, you will need to keep thinking!  Try a different code. Double check the wording on the questionnaire.  (Maybe the survey does not have age in years, but rather displays age in days.  Thus, the large numbers make sense.)  \n",
    "\n",
    "For sex, check the questionnaire or the codebook to see if these are codes for male & female. You may expect M & F to be the responses, but may instead see 0 & 1 or 1 & 2.\n",
    "\n",
    "If your data do not align precisely with the expected response, you can ask ask for further assistance. "
   ]
  },
  {
   "cell_type": "markdown",
   "metadata": {},
   "source": [
    "<font color=\"blue\"> Item 3: Paste your table in the document or show it to me in person if you have written it. </font>"
   ]
  },
  {
   "cell_type": "markdown",
   "metadata": {},
   "source": [
    "### Variables not in the household roster\n",
    "Do you have variables in your chart that are not in the household roster file?\n",
    "If so, you can repeat the code from above to import each file.  You need a new name for each table you import.\n",
    "To connect these data, we will need the household id and the individual id.  Make sure these variables are also in these files."
   ]
  },
  {
   "cell_type": "code",
   "execution_count": 1,
   "metadata": {
    "collapsed": false
   },
   "outputs": [
    {
     "ename": "SyntaxError",
     "evalue": "invalid syntax (<ipython-input-1-5f1257622cf7>, line 4)",
     "output_type": "error",
     "traceback": [
      "\u001b[0;36m  File \u001b[0;32m\"<ipython-input-1-5f1257622cf7>\"\u001b[0;36m, line \u001b[0;32m4\u001b[0m\n\u001b[0;31m    filex = Table.from_df((read_stata('***INSERT FILE NAME HERE***'), convert_categoricals=False).fillna(-99))\u001b[0m\n\u001b[0m                                                                                          ^\u001b[0m\n\u001b[0;31mSyntaxError\u001b[0m\u001b[0;31m:\u001b[0m invalid syntax\n"
     ]
    }
   ],
   "source": [
    "# substitute name of data file below\n",
    "# choose an appropriate variable name for the table, replacing 'filex'\n",
    "# fillna(-99) replaces missing values with -99, which are easier for us to work with than Python's \"nan\"\n",
    "\n",
    "filex = Table.from_df((read_stata('***INSERT FILE NAME HERE***'), convert_categoricals=False).fillna(-99))\n",
    "filex"
   ]
  },
  {
   "cell_type": "markdown",
   "metadata": {},
   "source": [
    "Now inspect the tables you just imported in the same way you did with the roster file. Inspect each file in a separate cell. You can add new code cells by using the insert menu:  \n",
    "\n",
    "    Insert > Cell Below\n",
    "    \n",
    "on the bar above. Before you select any columns, however, inspect the entire table to make sure the Household ID and/or the Individual ID is present. These variables will have the same name that they did in the roster."
   ]
  },
  {
   "cell_type": "code",
   "execution_count": null,
   "metadata": {
    "collapsed": false
   },
   "outputs": [],
   "source": [
    "# create extra cells below to make more tables"
   ]
  },
  {
   "cell_type": "code",
   "execution_count": null,
   "metadata": {
    "collapsed": false
   },
   "outputs": [],
   "source": [
    "education"
   ]
  },
  {
   "cell_type": "markdown",
   "metadata": {},
   "source": [
    "# Renaming variables & making a final table\n",
    "\n",
    "Now that you have identified all the variables you will need and identified their column names, let's rename the variables and combine the data into one data set that only uses the questions we need."
   ]
  },
  {
   "cell_type": "markdown",
   "metadata": {},
   "source": [
    "### Renaming \n",
    "Select and rename the columns of the roster table, plugging in each Original Name Code - you may have to go back & check what you named your table. Assign this table to a new variable.  Maintain capitalization & spaces to be consistent with everyone else! \n",
    "\n",
    "First, select the variables you want to keep (i.e. the ones on the sheet you filled out), and assign these to a new variable.\n",
    "Next, rename the columns to the names indicated in the document you filled out earlier, and save this as your final version of the table."
   ]
  },
  {
   "cell_type": "markdown",
   "metadata": {
    "collapsed": false
   },
   "source": [
    "- Household ID\n",
    "- Individual ID\n",
    "- Sex\n",
    "- Birthdate\n",
    "- etc."
   ]
  },
  {
   "cell_type": "code",
   "execution_count": null,
   "metadata": {
    "collapsed": false
   },
   "outputs": [],
   "source": [
    "#select all the variables in the roster file and rename them to the desired names\n",
    "#make sure that each of the lists are of the same length and that the corresponding variables have matching positions\n",
    "#you can extend the list's length to include all of your variables\n",
    "roster_vars = [\"***old labels goes here***\", \"***old labels goes here***\"]\n",
    "roster_name_vars = ['***new labels goes here***', '***old labels goes here***']\n",
    "\n",
    "roster_renamed = roster.select(roster_vars).relabel(roster_vars, roster_name_vars)\n",
    "roster_renamed"
   ]
  },
  {
   "cell_type": "markdown",
   "metadata": {},
   "source": [
    "Now repeat this process for the other tables you imported.\n",
    "\n",
    "$$IMPORTANT$$ In your chart, you probably just have Household ID & Individual ID indicated in the roster file. These are data linking variables, and should be in every file.  Confirm this and rename these variables also in the other data bases!"
   ]
  },
  {
   "cell_type": "code",
   "execution_count": null,
   "metadata": {
    "collapsed": false,
    "scrolled": true
   },
   "outputs": [],
   "source": [
    "#Repeat this renaming process for all the other files you imported\n",
    "#change any instances of 'filex' to the properly named table\n",
    "\n",
    "filex_vars = [\"***old labels goes here***\", \"***old labels goes here***\"]\n",
    "filex_name_vars = ['***new labels goes here***', '***new labels goes here***']\n",
    "filex_renamed = filex.select(filex_vars).relabel(filex_vars, filex_name_vars)\n",
    "filex_renamed"
   ]
  },
  {
   "cell_type": "markdown",
   "metadata": {},
   "source": [
    "### Joining\n",
    "We want to join the tables, linking with household id and individual id.  However, these are currently two separate columns.  We need to combine them into a single Master Id.\n",
    "\n",
    "We need to assign a unique value to each pair of the form `(<household id>, <individual id>)`. One way to do this is to construct a number of the form `<household id>0<individual_id>`. Here, the 0 acts as a separator, telling us where the household id ends and where the individual id begins. A method to get a number of this form is to use the following equation: $$id = household\\_id * 10^n + individual\\_id$$ where $n$ is larger than the number of digits in the largest individual id. (Exercise: think about why this is true). \n",
    "\n",
    "We have provided the rough code to compute this function and return a new table with the Master ID column. However, you need to fill out the value of n. Use the blank cell below to find out how many digits there are in the largest individual id in your roster."
   ]
  },
  {
   "cell_type": "code",
   "execution_count": null,
   "metadata": {
    "collapsed": false
   },
   "outputs": [],
   "source": []
  },
  {
   "cell_type": "code",
   "execution_count": null,
   "metadata": {
    "collapsed": false
   },
   "outputs": [],
   "source": [
    "#Usage: <new_table> = append_master_id(<old_table>)\n",
    "#Returns: a new table with column \"Master ID\" appended to the old table\n",
    "#Make sure <old_table> has the columns \"Household ID\" and \"Individual ID\"\n",
    "\n",
    "def append_master_id(table, household_id_label=\"Household ID\", individual_id_label=\"Individual ID\"):\n",
    "\n",
    "    #Fill in value of n. Should be 1 more than the number of digits of the largest number in the Household ID column.\n",
    "    n = \n",
    "    \n",
    "    household_col = table[household_id_label]\n",
    "    individual_col = table[individual_id_label]\n",
    "    master_col = []\n",
    "    for household_id, individual_id in zip(household_col, individual_col):\n",
    "        master_col.append(household_id * 10**n + individual_id)\n",
    "    return table.with_column('Master ID', master_col)\n",
    "    \n",
    "\n",
    "roster_renamed = append_master_id(roster_renamed)\n",
    "filex_renamed = append_master_id(filex_renamed).drop(['Household ID', 'Individual ID'])\n"
   ]
  },
  {
   "cell_type": "markdown",
   "metadata": {},
   "source": [
    "Let's now join all the data bases.  Start with roster. Join the first two, then join this large one to the third, etc. \n",
    "\n",
    "Some databases do not have information for everyone in the household.  For example, employment data is only for adults or height and weight is only for children under age 5.  For these data bases, you need an extra step of code, as in the last joining code below.\n",
    "\n",
    "Exception: Do not join if there are multiple observations for each person.  For example, in your employment data set some people have multiple jobs.  We will work on this in a later lab and join in then.\n",
    "\n",
    "$Note$: always list the roster database first. "
   ]
  },
  {
   "cell_type": "code",
   "execution_count": null,
   "metadata": {
    "collapsed": false
   },
   "outputs": [],
   "source": [
    "#replace filex_renamed with one of your supplemental tables\n",
    "master_table = roster_renamed.join(***NAME OF COLUMN TO JOIN BY***, ***TABLE YOU WILL JOIN WITH***)\n",
    "\n",
    "#repeat the process for any other tables you need to append\n",
    "master_table = master_table.join(***NAME OF COLUMN TO JOIN BY***, ***TABLE YOU WILL JOIN WITH***)\n",
    "\n",
    "#joining data bases where one database has fewer observations than the other\n",
    "def merge_keeping_all_master_ids(roster, joined, master_id_label='Master ID', using_labels='left'):\n",
    "    #can change using_labels to 'outer' if you want to keep all values of joining column from both tables\n",
    "    df_roster = roster.to_df()\n",
    "    df_joined = joined.to_df()\n",
    "    df_combined = df_roster.merge(df_joined, on=master_id_label, how=using_labels).fillna(-99)\n",
    "    return Table.from_df(df_combined)\n",
    "master_table = merge_keeping_all_master_ids(***NAME OF COLUMN TO JOIN BY***, ***TABLE YOU WILL JOIN WITH***)\n",
    "\n",
    "# master_table = master_table.join('Master ID', __Some table__)\n",
    "master_table"
   ]
  },
  {
   "cell_type": "markdown",
   "metadata": {},
   "source": [
    "View the final table.  "
   ]
  },
  {
   "cell_type": "code",
   "execution_count": null,
   "metadata": {
    "collapsed": false
   },
   "outputs": [],
   "source": [
    "master_table"
   ]
  },
  {
   "cell_type": "markdown",
   "metadata": {},
   "source": [
    "Are all the columns there?  Do the answers make sense? \n",
    "\n",
    "Congratulations!  "
   ]
  },
  {
   "cell_type": "markdown",
   "metadata": {
    "collapsed": true
   },
   "source": [
    "<font color=\"blue\"> Item 4: Paste a screenshot of the the table with the data from one family. </font>"
   ]
  },
  {
   "cell_type": "code",
   "execution_count": null,
   "metadata": {
    "collapsed": true
   },
   "outputs": [],
   "source": []
  },
  {
   "cell_type": "markdown",
   "metadata": {},
   "source": [
    "### Sanity Check\n",
    "Now we need to make sure our join worked correctly. Verify that the master table has the same number of rows as the roster table. There should be a single row for every individual in your dataset."
   ]
  },
  {
   "cell_type": "code",
   "execution_count": null,
   "metadata": {
    "collapsed": false
   },
   "outputs": [],
   "source": [
    "# check this using num_rows"
   ]
  },
  {
   "cell_type": "markdown",
   "metadata": {},
   "source": [
    "### Save your dataset\n",
    "\n",
    "Let's save the data set!  You can choose your own file name, but it will be easier if we all use the given name of the file provided below to ensure consistency of code.\n",
    "\n",
    "As we progress throughout the course, we will be adding more data to the table you created. Name this file Data_L1 and save it in the same folder as Lab 1."
   ]
  },
  {
   "cell_type": "code",
   "execution_count": 1,
   "metadata": {
    "collapsed": false
   },
   "outputs": [
    {
     "ename": "NameError",
     "evalue": "name 'master_table' is not defined",
     "output_type": "error",
     "traceback": [
      "\u001b[0;31m---------------------------------------------------------------------------\u001b[0m",
      "\u001b[0;31mNameError\u001b[0m                                 Traceback (most recent call last)",
      "\u001b[0;32m<ipython-input-1-a31489c22076>\u001b[0m in \u001b[0;36m<module>\u001b[0;34m()\u001b[0m\n\u001b[0;32m----> 1\u001b[0;31m \u001b[0mmaster_table\u001b[0m\u001b[0;34m.\u001b[0m\u001b[0mto_csv\u001b[0m\u001b[0;34m(\u001b[0m\u001b[0;34m'***insert appropriate file path here***'\u001b[0m\u001b[0;34m)\u001b[0m\u001b[0;34m\u001b[0m\u001b[0m\n\u001b[0m",
      "\u001b[0;31mNameError\u001b[0m: name 'master_table' is not defined"
     ]
    }
   ],
   "source": [
    "master_table.to_csv('***insert appropriate file path here***')"
   ]
  }
 ],
 "metadata": {
  "anaconda-cloud": {},
  "kernelspec": {
   "display_name": "Python [ds8]",
   "language": "python",
   "name": "Python [ds8]"
  },
  "language_info": {
   "codemirror_mode": {
    "name": "ipython",
    "version": 3
   },
   "file_extension": ".py",
   "mimetype": "text/x-python",
   "name": "python",
   "nbconvert_exporter": "python",
   "pygments_lexer": "ipython3",
   "version": "3.5.2"
  }
 },
 "nbformat": 4,
 "nbformat_minor": 0
}
