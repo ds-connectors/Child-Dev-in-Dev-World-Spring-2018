{
 "cells": [
  {
   "cell_type": "code",
   "execution_count": null,
   "metadata": {
    "collapsed": true
   },
   "outputs": [],
   "source": [
    "# run this cell\n",
    "from datascience import *\n",
    "import pandas as pd\n",
    "import numpy as np\n",
    "\n",
    "import matplotlib\n",
    "matplotlib.use('Agg', warn=False)\n",
    "%matplotlib inline\n",
    "import matplotlib.pyplot as plots\n",
    "plots.style.use('fivethirtyeight')\n",
    "import warnings\n",
    "warnings.simplefilter(action=\"ignore\", category=FutureWarning)"
   ]
  },
  {
   "cell_type": "code",
   "execution_count": 12,
   "metadata": {
    "collapsed": false
   },
   "outputs": [
    {
     "data": {
      "text/html": [
       "<table border=\"1\" class=\"dataframe\">\n",
       "    <thead>\n",
       "        <tr>\n",
       "            <th>Household ID </th> <th>Individual ID</th> <th>Initial</th> <th>Sex</th> <th>Age</th> <th>Birthdate</th> <th>Relate to Head</th> <th>Mother in Household</th> <th>Mother ID</th> <th>Highest Education</th> <th>Enrollment Status</th> <th>Hours worked</th> <th>Hours Volunteered</th>\n",
       "        </tr>\n",
       "    </thead>\n",
       "    <tbody>\n",
       "        <tr>\n",
       "            <td>3            </td> <td>1            </td> <td>G      </td> <td>0   </td> <td>50  </td> <td>12/12/1967</td> <td>1             </td> <td>0                  </td> <td>nan      </td> <td>17               </td> <td>1                </td> <td>40          </td> <td>0                </td>\n",
       "        </tr>\n",
       "    </tbody>\n",
       "        <tr>\n",
       "            <td>3            </td> <td>2            </td> <td>B      </td> <td>1   </td> <td>39  </td> <td>3/14/1978 </td> <td>2             </td> <td>1                  </td> <td>nan      </td> <td>17               </td> <td>1                </td> <td>40          </td> <td>0                </td>\n",
       "        </tr>\n",
       "    </tbody>\n",
       "        <tr>\n",
       "            <td>3            </td> <td>3            </td> <td>P      </td> <td>0   </td> <td>21  </td> <td>6/14/1996 </td> <td>3             </td> <td>0                  </td> <td>nan      </td> <td>15               </td> <td>0                </td> <td>40          </td> <td>0                </td>\n",
       "        </tr>\n",
       "    </tbody>\n",
       "        <tr>\n",
       "            <td>3            </td> <td>4            </td> <td>S      </td> <td>1   </td> <td>19  </td> <td>5/6/1998  </td> <td>3             </td> <td>0                  </td> <td>nan      </td> <td>15               </td> <td>0                </td> <td>15          </td> <td>0                </td>\n",
       "        </tr>\n",
       "    </tbody>\n",
       "        <tr>\n",
       "            <td>3            </td> <td>5            </td> <td>N      </td> <td>1   </td> <td>8   </td> <td>12/12/2009</td> <td>3             </td> <td>0                  </td> <td>2        </td> <td>2                </td> <td>0                </td> <td>0           </td> <td>0                </td>\n",
       "        </tr>\n",
       "    </tbody>\n",
       "        <tr>\n",
       "            <td>3            </td> <td>6            </td> <td>K      </td> <td>1   </td> <td>6   </td> <td>9/6/2011  </td> <td>3             </td> <td>0                  </td> <td>2        </td> <td>0                </td> <td>0                </td> <td>0           </td> <td>0                </td>\n",
       "        </tr>\n",
       "    </tbody>\n",
       "        <tr>\n",
       "            <td>3            </td> <td>7            </td> <td>O      </td> <td>0   </td> <td>90  </td> <td>7/13/1927 </td> <td>4             </td> <td>0                  </td> <td>nan      </td> <td>17               </td> <td>1                </td> <td>0           </td> <td>0                </td>\n",
       "        </tr>\n",
       "    </tbody>\n",
       "        <tr>\n",
       "            <td>2            </td> <td>1            </td> <td>C      </td> <td>1   </td> <td>57  </td> <td>5/16/1960 </td> <td>1             </td> <td>1                  </td> <td>nan      </td> <td>16               </td> <td>1                </td> <td>32          </td> <td>0                </td>\n",
       "        </tr>\n",
       "    </tbody>\n",
       "        <tr>\n",
       "            <td>2            </td> <td>2            </td> <td>M      </td> <td>1   </td> <td>20  </td> <td>11/26/1997</td> <td>3             </td> <td>0                  </td> <td>1        </td> <td>15               </td> <td>0                </td> <td>0           </td> <td>0                </td>\n",
       "        </tr>\n",
       "    </tbody>\n",
       "        <tr>\n",
       "            <td>2            </td> <td>3            </td> <td>K      </td> <td>0   </td> <td>23  </td> <td>9/11/1994 </td> <td>3             </td> <td>0                  </td> <td>1        </td> <td>15               </td> <td>0                </td> <td>0           </td> <td>0                </td>\n",
       "        </tr>\n",
       "    </tbody>\n",
       "</table>\n",
       "<p>... (39 rows omitted)</p"
      ],
      "text/plain": [
       "Household ID  | Individual ID | Initial | Sex  | Age  | Birthdate  | Relate to Head | Mother in Household | Mother ID | Highest Education | Enrollment Status | Hours worked | Hours Volunteered\n",
       "3             | 1             | G       | 0    | 50   | 12/12/1967 | 1              | 0                   | nan       | 17                | 1                 | 40           | 0\n",
       "3             | 2             | B       | 1    | 39   | 3/14/1978  | 2              | 1                   | nan       | 17                | 1                 | 40           | 0\n",
       "3             | 3             | P       | 0    | 21   | 6/14/1996  | 3              | 0                   | nan       | 15                | 0                 | 40           | 0\n",
       "3             | 4             | S       | 1    | 19   | 5/6/1998   | 3              | 0                   | nan       | 15                | 0                 | 15           | 0\n",
       "3             | 5             | N       | 1    | 8    | 12/12/2009 | 3              | 0                   | 2         | 2                 | 0                 | 0            | 0\n",
       "3             | 6             | K       | 1    | 6    | 9/6/2011   | 3              | 0                   | 2         | 0                 | 0                 | 0            | 0\n",
       "3             | 7             | O       | 0    | 90   | 7/13/1927  | 4              | 0                   | nan       | 17                | 1                 | 0            | 0\n",
       "2             | 1             | C       | 1    | 57   | 5/16/1960  | 1              | 1                   | nan       | 16                | 1                 | 32           | 0\n",
       "2             | 2             | M       | 1    | 20   | 11/26/1997 | 3              | 0                   | 1         | 15                | 0                 | 0            | 0\n",
       "2             | 3             | K       | 0    | 23   | 9/11/1994  | 3              | 0                   | 1         | 15                | 0                 | 0            | 0\n",
       "... (39 rows omitted)"
      ]
     },
     "execution_count": 12,
     "metadata": {},
     "output_type": "execute_result"
    }
   ],
   "source": [
    "roster=Table.read_table('Household Survey - Roster.csv')\n",
    "roster"
   ]
  },
  {
   "cell_type": "code",
   "execution_count": null,
   "metadata": {
    "collapsed": true
   },
   "outputs": [],
   "source": [
    "roster.group('Household ID ').show()"
   ]
  },
  {
   "cell_type": "code",
   "execution_count": 6,
   "metadata": {
    "collapsed": false
   },
   "outputs": [
    {
     "data": {
      "text/html": [
       "<table border=\"1\" class=\"dataframe\">\n",
       "    <thead>\n",
       "        <tr>\n",
       "            <th>Household ID</th> <th>count</th>\n",
       "        </tr>\n",
       "    </thead>\n",
       "    <tbody>\n",
       "        <tr>\n",
       "            <td>1           </td> <td>1    </td>\n",
       "        </tr>\n",
       "    </tbody>\n",
       "        <tr>\n",
       "            <td>2           </td> <td>1    </td>\n",
       "        </tr>\n",
       "    </tbody>\n",
       "        <tr>\n",
       "            <td>3           </td> <td>1    </td>\n",
       "        </tr>\n",
       "    </tbody>\n",
       "        <tr>\n",
       "            <td>4           </td> <td>1    </td>\n",
       "        </tr>\n",
       "    </tbody>\n",
       "        <tr>\n",
       "            <td>5           </td> <td>1    </td>\n",
       "        </tr>\n",
       "    </tbody>\n",
       "        <tr>\n",
       "            <td>6           </td> <td>1    </td>\n",
       "        </tr>\n",
       "    </tbody>\n",
       "        <tr>\n",
       "            <td>7           </td> <td>1    </td>\n",
       "        </tr>\n",
       "    </tbody>\n",
       "        <tr>\n",
       "            <td>8           </td> <td>1    </td>\n",
       "        </tr>\n",
       "    </tbody>\n",
       "        <tr>\n",
       "            <td>9           </td> <td>1    </td>\n",
       "        </tr>\n",
       "    </tbody>\n",
       "        <tr>\n",
       "            <td>10          </td> <td>1    </td>\n",
       "        </tr>\n",
       "    </tbody>\n",
       "        <tr>\n",
       "            <td>11          </td> <td>1    </td>\n",
       "        </tr>\n",
       "    </tbody>\n",
       "        <tr>\n",
       "            <td>12          </td> <td>1    </td>\n",
       "        </tr>\n",
       "    </tbody>\n",
       "        <tr>\n",
       "            <td>13          </td> <td>1    </td>\n",
       "        </tr>\n",
       "    </tbody>\n",
       "</table>"
      ],
      "text/plain": [
       "<IPython.core.display.HTML object>"
      ]
     },
     "metadata": {},
     "output_type": "display_data"
    }
   ],
   "source": [
    "survey=Table.read_table('Class Household Survey.csv')\n",
    "survey"
   ]
  },
  {
   "cell_type": "code",
   "execution_count": 13,
   "metadata": {
    "collapsed": false
   },
   "outputs": [
    {
     "data": {
      "text/html": [
       "<table border=\"1\" class=\"dataframe\">\n",
       "    <thead>\n",
       "        <tr>\n",
       "            <th>Household ID</th> <th>count</th>\n",
       "        </tr>\n",
       "    </thead>\n",
       "    <tbody>\n",
       "        <tr>\n",
       "            <td>1           </td> <td>1    </td>\n",
       "        </tr>\n",
       "    </tbody>\n",
       "        <tr>\n",
       "            <td>2           </td> <td>1    </td>\n",
       "        </tr>\n",
       "    </tbody>\n",
       "        <tr>\n",
       "            <td>3           </td> <td>1    </td>\n",
       "        </tr>\n",
       "    </tbody>\n",
       "        <tr>\n",
       "            <td>4           </td> <td>1    </td>\n",
       "        </tr>\n",
       "    </tbody>\n",
       "        <tr>\n",
       "            <td>5           </td> <td>1    </td>\n",
       "        </tr>\n",
       "    </tbody>\n",
       "        <tr>\n",
       "            <td>6           </td> <td>1    </td>\n",
       "        </tr>\n",
       "    </tbody>\n",
       "        <tr>\n",
       "            <td>7           </td> <td>1    </td>\n",
       "        </tr>\n",
       "    </tbody>\n",
       "        <tr>\n",
       "            <td>8           </td> <td>1    </td>\n",
       "        </tr>\n",
       "    </tbody>\n",
       "        <tr>\n",
       "            <td>9           </td> <td>1    </td>\n",
       "        </tr>\n",
       "    </tbody>\n",
       "        <tr>\n",
       "            <td>10          </td> <td>1    </td>\n",
       "        </tr>\n",
       "    </tbody>\n",
       "        <tr>\n",
       "            <td>11          </td> <td>1    </td>\n",
       "        </tr>\n",
       "    </tbody>\n",
       "        <tr>\n",
       "            <td>12          </td> <td>1    </td>\n",
       "        </tr>\n",
       "    </tbody>\n",
       "        <tr>\n",
       "            <td>13          </td> <td>1    </td>\n",
       "        </tr>\n",
       "    </tbody>\n",
       "</table>"
      ],
      "text/plain": [
       "<IPython.core.display.HTML object>"
      ]
     },
     "metadata": {},
     "output_type": "display_data"
    }
   ],
   "source": [
    "survey.group('Household ID').show()"
   ]
  },
  {
   "cell_type": "code",
   "execution_count": 14,
   "metadata": {
    "collapsed": false
   },
   "outputs": [
    {
     "data": {
      "text/html": [
       "<table border=\"1\" class=\"dataframe\">\n",
       "    <thead>\n",
       "        <tr>\n",
       "            <th>Household ID </th> <th>Individual ID</th> <th>Initial</th> <th>Sex</th> <th>Age</th> <th>Birthdate</th> <th>Relate to Head</th> <th>Mother in Household</th> <th>Mother ID</th> <th>Highest Education</th> <th>Enrollment Status</th> <th>Hours worked</th> <th>Hours Volunteered</th> <th>dogs</th> <th>cats</th> <th>fish</th> <th>small pets</th> <th>large pets</th> <th>Wii</th> <th>Alexa-ish product</th> <th>DVD</th> <th>international travel</th>\n",
       "        </tr>\n",
       "    </thead>\n",
       "    <tbody>\n",
       "        <tr>\n",
       "            <td>1            </td> <td>1            </td> <td>C      </td> <td>0   </td> <td>21  </td> <td>3/18/1996 </td> <td>3             </td> <td>0                  </td> <td>3        </td> <td>15               </td> <td>0                </td> <td>0           </td> <td>0                </td> <td>1   </td> <td>0   </td> <td>0   </td> <td>0         </td> <td>0         </td> <td>No  </td> <td>No               </td> <td>No  </td> <td>Yes                 </td>\n",
       "        </tr>\n",
       "    </tbody>\n",
       "        <tr>\n",
       "            <td>1            </td> <td>2            </td> <td>C      </td> <td>0   </td> <td>51  </td> <td>10/13/1969</td> <td>1             </td> <td>0                  </td> <td>nan      </td> <td>13               </td> <td>1                </td> <td>60          </td> <td>0                </td> <td>1   </td> <td>0   </td> <td>0   </td> <td>0         </td> <td>0         </td> <td>No  </td> <td>No               </td> <td>No  </td> <td>Yes                 </td>\n",
       "        </tr>\n",
       "    </tbody>\n",
       "        <tr>\n",
       "            <td>1            </td> <td>3            </td> <td>D      </td> <td>1   </td> <td>53  </td> <td>3/5/1967  </td> <td>2             </td> <td>1                  </td> <td>nan      </td> <td>13               </td> <td>1                </td> <td>0           </td> <td>0                </td> <td>1   </td> <td>0   </td> <td>0   </td> <td>0         </td> <td>0         </td> <td>No  </td> <td>No               </td> <td>No  </td> <td>Yes                 </td>\n",
       "        </tr>\n",
       "    </tbody>\n",
       "        <tr>\n",
       "            <td>1            </td> <td>4            </td> <td>S      </td> <td>0   </td> <td>19  </td> <td>7/28/1998 </td> <td>3             </td> <td>0                  </td> <td>3        </td> <td>15               </td> <td>0                </td> <td>0           </td> <td>0                </td> <td>1   </td> <td>0   </td> <td>0   </td> <td>0         </td> <td>0         </td> <td>No  </td> <td>No               </td> <td>No  </td> <td>Yes                 </td>\n",
       "        </tr>\n",
       "    </tbody>\n",
       "        <tr>\n",
       "            <td>2            </td> <td>1            </td> <td>C      </td> <td>1   </td> <td>57  </td> <td>5/16/1960 </td> <td>1             </td> <td>1                  </td> <td>nan      </td> <td>16               </td> <td>1                </td> <td>32          </td> <td>0                </td> <td>1   </td> <td>0   </td> <td>0   </td> <td>0         </td> <td>0         </td> <td>No  </td> <td>Yes              </td> <td>Yes </td> <td>Yes                 </td>\n",
       "        </tr>\n",
       "    </tbody>\n",
       "        <tr>\n",
       "            <td>2            </td> <td>2            </td> <td>M      </td> <td>1   </td> <td>20  </td> <td>11/26/1997</td> <td>3             </td> <td>0                  </td> <td>1        </td> <td>15               </td> <td>0                </td> <td>0           </td> <td>0                </td> <td>1   </td> <td>0   </td> <td>0   </td> <td>0         </td> <td>0         </td> <td>No  </td> <td>Yes              </td> <td>Yes </td> <td>Yes                 </td>\n",
       "        </tr>\n",
       "    </tbody>\n",
       "        <tr>\n",
       "            <td>2            </td> <td>3            </td> <td>K      </td> <td>0   </td> <td>23  </td> <td>9/11/1994 </td> <td>3             </td> <td>0                  </td> <td>1        </td> <td>15               </td> <td>0                </td> <td>0           </td> <td>0                </td> <td>1   </td> <td>0   </td> <td>0   </td> <td>0         </td> <td>0         </td> <td>No  </td> <td>Yes              </td> <td>Yes </td> <td>Yes                 </td>\n",
       "        </tr>\n",
       "    </tbody>\n",
       "        <tr>\n",
       "            <td>2            </td> <td>4            </td> <td>D      </td> <td>0   </td> <td>24  </td> <td>5/29/1993 </td> <td>3             </td> <td>0                  </td> <td>1        </td> <td>15               </td> <td>1                </td> <td>60          </td> <td>0                </td> <td>1   </td> <td>0   </td> <td>0   </td> <td>0         </td> <td>0         </td> <td>No  </td> <td>Yes              </td> <td>Yes </td> <td>Yes                 </td>\n",
       "        </tr>\n",
       "    </tbody>\n",
       "        <tr>\n",
       "            <td>3            </td> <td>1            </td> <td>G      </td> <td>0   </td> <td>50  </td> <td>12/12/1967</td> <td>1             </td> <td>0                  </td> <td>nan      </td> <td>17               </td> <td>1                </td> <td>40          </td> <td>0                </td> <td>4   </td> <td>1   </td> <td>0   </td> <td>0         </td> <td>0         </td> <td>Yes </td> <td>Yes              </td> <td>Yes </td> <td>Yes                 </td>\n",
       "        </tr>\n",
       "    </tbody>\n",
       "        <tr>\n",
       "            <td>3            </td> <td>2            </td> <td>B      </td> <td>1   </td> <td>39  </td> <td>3/14/1978 </td> <td>2             </td> <td>1                  </td> <td>nan      </td> <td>17               </td> <td>1                </td> <td>40          </td> <td>0                </td> <td>4   </td> <td>1   </td> <td>0   </td> <td>0         </td> <td>0         </td> <td>Yes </td> <td>Yes              </td> <td>Yes </td> <td>Yes                 </td>\n",
       "        </tr>\n",
       "    </tbody>\n",
       "</table>\n",
       "<p>... (39 rows omitted)</p"
      ],
      "text/plain": [
       "Household ID  | Individual ID | Initial | Sex  | Age  | Birthdate  | Relate to Head | Mother in Household | Mother ID | Highest Education | Enrollment Status | Hours worked | Hours Volunteered | dogs | cats | fish | small pets | large pets | Wii  | Alexa-ish product | DVD  | international travel\n",
       "1             | 1             | C       | 0    | 21   | 3/18/1996  | 3              | 0                   | 3         | 15                | 0                 | 0            | 0                 | 1    | 0    | 0    | 0          | 0          | No   | No                | No   | Yes\n",
       "1             | 2             | C       | 0    | 51   | 10/13/1969 | 1              | 0                   | nan       | 13                | 1                 | 60           | 0                 | 1    | 0    | 0    | 0          | 0          | No   | No                | No   | Yes\n",
       "1             | 3             | D       | 1    | 53   | 3/5/1967   | 2              | 1                   | nan       | 13                | 1                 | 0            | 0                 | 1    | 0    | 0    | 0          | 0          | No   | No                | No   | Yes\n",
       "1             | 4             | S       | 0    | 19   | 7/28/1998  | 3              | 0                   | 3         | 15                | 0                 | 0            | 0                 | 1    | 0    | 0    | 0          | 0          | No   | No                | No   | Yes\n",
       "2             | 1             | C       | 1    | 57   | 5/16/1960  | 1              | 1                   | nan       | 16                | 1                 | 32           | 0                 | 1    | 0    | 0    | 0          | 0          | No   | Yes               | Yes  | Yes\n",
       "2             | 2             | M       | 1    | 20   | 11/26/1997 | 3              | 0                   | 1         | 15                | 0                 | 0            | 0                 | 1    | 0    | 0    | 0          | 0          | No   | Yes               | Yes  | Yes\n",
       "2             | 3             | K       | 0    | 23   | 9/11/1994  | 3              | 0                   | 1         | 15                | 0                 | 0            | 0                 | 1    | 0    | 0    | 0          | 0          | No   | Yes               | Yes  | Yes\n",
       "2             | 4             | D       | 0    | 24   | 5/29/1993  | 3              | 0                   | 1         | 15                | 1                 | 60           | 0                 | 1    | 0    | 0    | 0          | 0          | No   | Yes               | Yes  | Yes\n",
       "3             | 1             | G       | 0    | 50   | 12/12/1967 | 1              | 0                   | nan       | 17                | 1                 | 40           | 0                 | 4    | 1    | 0    | 0          | 0          | Yes  | Yes               | Yes  | Yes\n",
       "3             | 2             | B       | 1    | 39   | 3/14/1978  | 2              | 1                   | nan       | 17                | 1                 | 40           | 0                 | 4    | 1    | 0    | 0          | 0          | Yes  | Yes               | Yes  | Yes\n",
       "... (39 rows omitted)"
      ]
     },
     "execution_count": 14,
     "metadata": {},
     "output_type": "execute_result"
    }
   ],
   "source": [
    "combined=roster.join('Household ID ', survey, 'Household ID')\n",
    "combined"
   ]
  },
  {
   "cell_type": "code",
   "execution_count": 15,
   "metadata": {
    "collapsed": false
   },
   "outputs": [
    {
     "data": {
      "text/html": [
       "<table border=\"1\" class=\"dataframe\">\n",
       "    <thead>\n",
       "        <tr>\n",
       "            <th>Household ID </th> <th>count</th>\n",
       "        </tr>\n",
       "    </thead>\n",
       "    <tbody>\n",
       "        <tr>\n",
       "            <td>1            </td> <td>4    </td>\n",
       "        </tr>\n",
       "    </tbody>\n",
       "        <tr>\n",
       "            <td>2            </td> <td>4    </td>\n",
       "        </tr>\n",
       "    </tbody>\n",
       "        <tr>\n",
       "            <td>3            </td> <td>7    </td>\n",
       "        </tr>\n",
       "    </tbody>\n",
       "        <tr>\n",
       "            <td>4            </td> <td>7    </td>\n",
       "        </tr>\n",
       "    </tbody>\n",
       "        <tr>\n",
       "            <td>6            </td> <td>4    </td>\n",
       "        </tr>\n",
       "    </tbody>\n",
       "        <tr>\n",
       "            <td>7            </td> <td>4    </td>\n",
       "        </tr>\n",
       "    </tbody>\n",
       "        <tr>\n",
       "            <td>8            </td> <td>4    </td>\n",
       "        </tr>\n",
       "    </tbody>\n",
       "        <tr>\n",
       "            <td>9            </td> <td>3    </td>\n",
       "        </tr>\n",
       "    </tbody>\n",
       "        <tr>\n",
       "            <td>10           </td> <td>3    </td>\n",
       "        </tr>\n",
       "    </tbody>\n",
       "        <tr>\n",
       "            <td>11           </td> <td>4    </td>\n",
       "        </tr>\n",
       "    </tbody>\n",
       "        <tr>\n",
       "            <td>12           </td> <td>2    </td>\n",
       "        </tr>\n",
       "    </tbody>\n",
       "        <tr>\n",
       "            <td>13           </td> <td>3    </td>\n",
       "        </tr>\n",
       "    </tbody>\n",
       "</table>"
      ],
      "text/plain": [
       "<IPython.core.display.HTML object>"
      ]
     },
     "metadata": {},
     "output_type": "display_data"
    }
   ],
   "source": [
    "combined.group('Household ID ').show()"
   ]
  },
  {
   "cell_type": "code",
   "execution_count": 18,
   "metadata": {
    "collapsed": false
   },
   "outputs": [
    {
     "data": {
      "text/html": [
       "<table border=\"1\" class=\"dataframe\">\n",
       "    <thead>\n",
       "        <tr>\n",
       "            <th>Household ID </th> <th>Individual ID</th> <th>Initial</th> <th>Sex</th> <th>Age</th> <th>Birthdate</th> <th>Relate to Head</th> <th>Mother in Household</th> <th>Mother ID</th> <th>Highest Education</th> <th>Enrollment Status</th> <th>Hours worked</th> <th>Hours Volunteered</th> <th>Master ID</th>\n",
       "        </tr>\n",
       "    </thead>\n",
       "    <tbody>\n",
       "        <tr>\n",
       "            <td>3            </td> <td>1            </td> <td>G      </td> <td>0   </td> <td>50  </td> <td>12/12/1967</td> <td>1             </td> <td>0                  </td> <td>nan      </td> <td>17               </td> <td>1                </td> <td>40          </td> <td>0                </td> <td>301      </td>\n",
       "        </tr>\n",
       "    </tbody>\n",
       "        <tr>\n",
       "            <td>3            </td> <td>2            </td> <td>B      </td> <td>1   </td> <td>39  </td> <td>3/14/1978 </td> <td>2             </td> <td>1                  </td> <td>nan      </td> <td>17               </td> <td>1                </td> <td>40          </td> <td>0                </td> <td>302      </td>\n",
       "        </tr>\n",
       "    </tbody>\n",
       "        <tr>\n",
       "            <td>3            </td> <td>3            </td> <td>P      </td> <td>0   </td> <td>21  </td> <td>6/14/1996 </td> <td>3             </td> <td>0                  </td> <td>nan      </td> <td>15               </td> <td>0                </td> <td>40          </td> <td>0                </td> <td>303      </td>\n",
       "        </tr>\n",
       "    </tbody>\n",
       "        <tr>\n",
       "            <td>3            </td> <td>4            </td> <td>S      </td> <td>1   </td> <td>19  </td> <td>5/6/1998  </td> <td>3             </td> <td>0                  </td> <td>nan      </td> <td>15               </td> <td>0                </td> <td>15          </td> <td>0                </td> <td>304      </td>\n",
       "        </tr>\n",
       "    </tbody>\n",
       "        <tr>\n",
       "            <td>3            </td> <td>5            </td> <td>N      </td> <td>1   </td> <td>8   </td> <td>12/12/2009</td> <td>3             </td> <td>0                  </td> <td>2        </td> <td>2                </td> <td>0                </td> <td>0           </td> <td>0                </td> <td>305      </td>\n",
       "        </tr>\n",
       "    </tbody>\n",
       "        <tr>\n",
       "            <td>3            </td> <td>6            </td> <td>K      </td> <td>1   </td> <td>6   </td> <td>9/6/2011  </td> <td>3             </td> <td>0                  </td> <td>2        </td> <td>0                </td> <td>0                </td> <td>0           </td> <td>0                </td> <td>306      </td>\n",
       "        </tr>\n",
       "    </tbody>\n",
       "        <tr>\n",
       "            <td>3            </td> <td>7            </td> <td>O      </td> <td>0   </td> <td>90  </td> <td>7/13/1927 </td> <td>4             </td> <td>0                  </td> <td>nan      </td> <td>17               </td> <td>1                </td> <td>0           </td> <td>0                </td> <td>307      </td>\n",
       "        </tr>\n",
       "    </tbody>\n",
       "        <tr>\n",
       "            <td>2            </td> <td>1            </td> <td>C      </td> <td>1   </td> <td>57  </td> <td>5/16/1960 </td> <td>1             </td> <td>1                  </td> <td>nan      </td> <td>16               </td> <td>1                </td> <td>32          </td> <td>0                </td> <td>201      </td>\n",
       "        </tr>\n",
       "    </tbody>\n",
       "        <tr>\n",
       "            <td>2            </td> <td>2            </td> <td>M      </td> <td>1   </td> <td>20  </td> <td>11/26/1997</td> <td>3             </td> <td>0                  </td> <td>1        </td> <td>15               </td> <td>0                </td> <td>0           </td> <td>0                </td> <td>202      </td>\n",
       "        </tr>\n",
       "    </tbody>\n",
       "        <tr>\n",
       "            <td>2            </td> <td>3            </td> <td>K      </td> <td>0   </td> <td>23  </td> <td>9/11/1994 </td> <td>3             </td> <td>0                  </td> <td>1        </td> <td>15               </td> <td>0                </td> <td>0           </td> <td>0                </td> <td>203      </td>\n",
       "        </tr>\n",
       "    </tbody>\n",
       "</table>\n",
       "<p>... (39 rows omitted)</p"
      ],
      "text/plain": [
       "Household ID  | Individual ID | Initial | Sex  | Age  | Birthdate  | Relate to Head | Mother in Household | Mother ID | Highest Education | Enrollment Status | Hours worked | Hours Volunteered | Master ID\n",
       "3             | 1             | G       | 0    | 50   | 12/12/1967 | 1              | 0                   | nan       | 17                | 1                 | 40           | 0                 | 301\n",
       "3             | 2             | B       | 1    | 39   | 3/14/1978  | 2              | 1                   | nan       | 17                | 1                 | 40           | 0                 | 302\n",
       "3             | 3             | P       | 0    | 21   | 6/14/1996  | 3              | 0                   | nan       | 15                | 0                 | 40           | 0                 | 303\n",
       "3             | 4             | S       | 1    | 19   | 5/6/1998   | 3              | 0                   | nan       | 15                | 0                 | 15           | 0                 | 304\n",
       "3             | 5             | N       | 1    | 8    | 12/12/2009 | 3              | 0                   | 2         | 2                 | 0                 | 0            | 0                 | 305\n",
       "3             | 6             | K       | 1    | 6    | 9/6/2011   | 3              | 0                   | 2         | 0                 | 0                 | 0            | 0                 | 306\n",
       "3             | 7             | O       | 0    | 90   | 7/13/1927  | 4              | 0                   | nan       | 17                | 1                 | 0            | 0                 | 307\n",
       "2             | 1             | C       | 1    | 57   | 5/16/1960  | 1              | 1                   | nan       | 16                | 1                 | 32           | 0                 | 201\n",
       "2             | 2             | M       | 1    | 20   | 11/26/1997 | 3              | 0                   | 1         | 15                | 0                 | 0            | 0                 | 202\n",
       "2             | 3             | K       | 0    | 23   | 9/11/1994  | 3              | 0                   | 1         | 15                | 0                 | 0            | 0                 | 203\n",
       "... (39 rows omitted)"
      ]
     },
     "execution_count": 18,
     "metadata": {},
     "output_type": "execute_result"
    }
   ],
   "source": [
    "roster['Master ID'] = roster['Household ID ']*100 + roster['Individual ID']\n",
    "roster"
   ]
  },
  {
   "cell_type": "code",
   "execution_count": null,
   "metadata": {
    "collapsed": true
   },
   "outputs": [],
   "source": []
  }
 ],
 "metadata": {
  "kernelspec": {
   "display_name": "Python [ds8]",
   "language": "python",
   "name": "Python [ds8]"
  }
 },
 "nbformat": 4,
 "nbformat_minor": 0
}
