{
 "cells": [
  {
   "cell_type": "code",
   "execution_count": null,
   "metadata": {},
   "outputs": [],
   "source": [
    "# make sure to run this cell\n",
    "from datascience import *\n",
    "import numpy as np\n",
    "import matplotlib.pyplot as plt\n",
    "import warnings\n",
    "\n",
    "%matplotlib inline\n",
    "plt.style.use('fivethirtyeight')\n",
    "warnings.simplefilter(action=\"ignore\", category=FutureWarning)"
   ]
  },
  {
   "cell_type": "markdown",
   "metadata": {
    "collapsed": true
   },
   "source": [
    "In this exercise we will begin to familiarize ourselves with working with survey data by examining the Household Rosters from the Young Lives Survey.  We will look at the Roster when the Children were age 5 yrs. "
   ]
  },
  {
   "cell_type": "code",
   "execution_count": null,
   "metadata": {},
   "outputs": [],
   "source": [
    "# Import data that you saved at the end of Lab 1\n",
    "roster = Table.read_table('ethiopia roster 5yr.csv')\n",
    "roster.show(3)"
   ]
  },
  {
   "cell_type": "markdown",
   "metadata": {},
   "source": [
    "Look up the following variables in the codebook (Data Dictionary):\n",
    "\n",
    "`childid` `id` `age` `memsex` `relate` `grade` `sleep` `chcare` `hhchore` `npaywork` `paywork` `school` `study` `play`\n",
    "\n"
   ]
  },
  {
   "cell_type": "markdown",
   "metadata": {},
   "source": [
    "Keep only the variables `childid` `id` `age` `memsex` `sleep` `chcare` `hhchore` `npaywork` `paywork` `school` `study` `play`"
   ]
  },
  {
   "cell_type": "code",
   "execution_count": null,
   "metadata": {},
   "outputs": [],
   "source": [
    "activities = roster.select(['childid', 'id', 'age', 'memsex', 'sleep', 'chcare', 'hhchore', 'npaywork', 'paywork', 'school', 'study', 'play'])\n",
    "activities.show(10)"
   ]
  },
  {
   "cell_type": "code",
   "execution_count": null,
   "metadata": {},
   "outputs": [],
   "source": [
    "activities = activities.where(activities['age']>4)\n",
    "activities = activities.where(activities['age']<18)\n",
    "activities.show(10)"
   ]
  },
  {
   "cell_type": "code",
   "execution_count": null,
   "metadata": {},
   "outputs": [],
   "source": [
    "activities = activities.where('sleep', are.between(-1, 25))"
   ]
  },
  {
   "cell_type": "markdown",
   "metadata": {},
   "source": [
    "On average, how many hours do the children do the activities sleep-play?"
   ]
  },
  {
   "cell_type": "code",
   "execution_count": null,
   "metadata": {},
   "outputs": [],
   "source": [
    "mean_sleep = activities.column('sleep').mean()\n",
    "mean_sleep"
   ]
  },
  {
   "cell_type": "markdown",
   "metadata": {},
   "source": [
    "Are these different for boys & girls?"
   ]
  },
  {
   "cell_type": "code",
   "execution_count": null,
   "metadata": {},
   "outputs": [],
   "source": [
    "mean_sleep_f = activities.where('memsex', \"female\").column('sleep').mean()\n",
    "mean_sleep_m = activities.where('memsex', \"male\").column('sleep').mean()"
   ]
  },
  {
   "cell_type": "code",
   "execution_count": null,
   "metadata": {},
   "outputs": [],
   "source": [
    "mean_sleep_f"
   ]
  },
  {
   "cell_type": "code",
   "execution_count": null,
   "metadata": {},
   "outputs": [],
   "source": [
    "mean_sleep_m"
   ]
  },
  {
   "cell_type": "markdown",
   "metadata": {},
   "source": [
    "At what age do these differences start?  Compare boys and girls at ages 5, 10, & 17."
   ]
  },
  {
   "cell_type": "code",
   "execution_count": null,
   "metadata": {},
   "outputs": [],
   "source": [
    "mean_sleep_f_5 = activities.where('age', 5).where('memsex', \"female\").column('sleep').mean()\n",
    "mean_sleep_m_5 = activities.where('age', 5).where('memsex', \"male\").column('sleep').mean()\n",
    "mean_sleep_f_10 = activities.where('age', 10).where('memsex', \"female\").column('sleep').mean()\n",
    "mean_sleep_m_10 = activities.where('age', 10).where('memsex', \"male\").column('sleep').mean()\n",
    "mean_sleep_f_17 = activities.where('age', 17).where('memsex', \"female\").column('sleep').mean()\n",
    "mean_sleep_m_17 = activities.where('age', 17).where('memsex', \"male\").column('sleep').mean()"
   ]
  },
  {
   "cell_type": "code",
   "execution_count": null,
   "metadata": {},
   "outputs": [],
   "source": [
    "mean_sleep_f_5"
   ]
  },
  {
   "cell_type": "code",
   "execution_count": null,
   "metadata": {},
   "outputs": [],
   "source": [
    "mean_sleep_m_5"
   ]
  },
  {
   "cell_type": "code",
   "execution_count": null,
   "metadata": {},
   "outputs": [],
   "source": [
    "mean_sleep_f_10"
   ]
  },
  {
   "cell_type": "code",
   "execution_count": null,
   "metadata": {},
   "outputs": [],
   "source": [
    "mean_sleep_m_10"
   ]
  },
  {
   "cell_type": "code",
   "execution_count": null,
   "metadata": {},
   "outputs": [],
   "source": [
    "mean_sleep_f_17"
   ]
  },
  {
   "cell_type": "code",
   "execution_count": null,
   "metadata": {},
   "outputs": [],
   "source": [
    "mean_sleep_m_17"
   ]
  },
  {
   "cell_type": "markdown",
   "metadata": {},
   "source": [
    "Graphing the above."
   ]
  },
  {
   "cell_type": "code",
   "execution_count": null,
   "metadata": {},
   "outputs": [],
   "source": [
    "ages = make_array(5, 10, 17)\n",
    "female = mean_sleep_f_5, mean_sleep_f_10, mean_sleep_f_17\n",
    "male = mean_sleep_m_5, mean_sleep_m_10, mean_sleep_m_17"
   ]
  },
  {
   "cell_type": "code",
   "execution_count": null,
   "metadata": {},
   "outputs": [],
   "source": [
    "plt.scatter(ages, female)\n",
    "plt.scatter(ages, male)\n",
    "plt.legend(['female', 'male'])"
   ]
  }
 ],
 "metadata": {
  "kernelspec": {
   "display_name": "Python 3",
   "language": "python",
   "name": "python3"
  },
  "language_info": {
   "codemirror_mode": {
    "name": "ipython",
    "version": 3
   },
   "file_extension": ".py",
   "mimetype": "text/x-python",
   "name": "python",
   "nbconvert_exporter": "python",
   "pygments_lexer": "ipython3",
   "version": "3.6.1"
  }
 },
 "nbformat": 4,
 "nbformat_minor": 1
}
