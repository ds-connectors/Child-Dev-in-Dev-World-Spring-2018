{
 "cells": [
  {
   "cell_type": "code",
   "execution_count": 1,
   "metadata": {
    "collapsed": false
   },
   "outputs": [],
   "source": [
    "# run this cell\n",
    "from datascience import *\n",
    "from pandas import read_stata\n",
    "import numpy as np\n",
    "\n",
    "import matplotlib\n",
    "matplotlib.use('Agg', warn=False)\n",
    "%matplotlib inline\n",
    "import matplotlib.pyplot as plots\n",
    "plots.style.use('fivethirtyeight')\n",
    "import warnings\n",
    "warnings.simplefilter(action=\"ignore\", category=FutureWarning)"
   ]
  },
  {
   "cell_type": "markdown",
   "metadata": {},
   "source": [
    "How do children grow?  We will look at the growth patterns of the Young Lives children by age.  With your partner, upload the longitudinal young lives data file from the country you have been assigned.\n",
    "\n",
    "Ethiopia: Prof. Reynolds \n",
    "\n",
    "India: Emma & Maddy & Yuya\n",
    "\n",
    "Peru: Alex & Gabriela & Soumita\n",
    "\n",
    "Vietnam: Eric & Audry & Caniksha"
   ]
  },
  {
   "cell_type": "code",
   "execution_count": null,
   "metadata": {
    "collapsed": false
   },
   "outputs": [],
   "source": [
    "data=Table.read_table('2-20 Anthropometrics Ethiopia.csv')\n",
    "data.show(5)"
   ]
  },
  {
   "cell_type": "code",
   "execution_count": null,
   "metadata": {
    "collapsed": false
   },
   "outputs": [],
   "source": [
    "#Make a scatter plot of child height by child age.\n",
    "data.select(['chheight', 'agemon']).scatter('agemon')\n",
    "#Make a scatter plot of child weight by child age.\n",
    "data.select(['chweight', 'agemon'])...."
   ]
  },
  {
   "cell_type": "code",
   "execution_count": null,
   "metadata": {
    "collapsed": false
   },
   "outputs": [],
   "source": [
    "#Now let's look at height for the yougner cohort at age 1 \n",
    "data.where('round',1).where('yc',\"Younger cohort\").select(['chheight', 'agemon']).scatter('agemon')"
   ]
  },
  {
   "cell_type": "code",
   "execution_count": null,
   "metadata": {
    "collapsed": false
   },
   "outputs": [],
   "source": [
    "#contrast this to height for the older cohort at age 20 (round 4)\n",
    "data.where('round',4).where('yc',\"Older cohort\")...."
   ]
  },
  {
   "cell_type": "markdown",
   "metadata": {},
   "source": [
    "Make a scatter plot with different dot colors to contrast the height of girls and boys (using all ages & rounds)"
   ]
  },
  {
   "cell_type": "markdown",
   "metadata": {},
   "source": [
    "Drop extreme outliers."
   ]
  },
  {
   "cell_type": "markdown",
   "metadata": {},
   "source": [
    "Make a scatter plot of HAZ by child age."
   ]
  },
  {
   "cell_type": "markdown",
   "metadata": {},
   "source": [
    "Make a scatter plot of HAZ at round 1 with HAZ at round 4.  What conclusions can you make?"
   ]
  },
  {
   "cell_type": "markdown",
   "metadata": {},
   "source": [
    "What portion of children who are stunted at round 1 still stunted at round 4?"
   ]
  },
  {
   "cell_type": "markdown",
   "metadata": {},
   "source": [
    "What portion are both stunted (zhfa<-2) & overweight? (zbfa>1)"
   ]
  }
 ],
 "metadata": {
  "anaconda-cloud": {},
  "kernelspec": {
   "display_name": "Python [ds8]",
   "language": "python",
   "name": "Python [ds8]"
  },
  "language_info": {
   "codemirror_mode": {
    "name": "ipython",
    "version": 3
   },
   "file_extension": ".py",
   "mimetype": "text/x-python",
   "name": "python",
   "nbconvert_exporter": "python",
   "pygments_lexer": "ipython3",
   "version": "3.5.2"
  }
 },
 "nbformat": 4,
 "nbformat_minor": 1
}
