{
 "cells": [
  {
   "cell_type": "code",
   "execution_count": 2,
   "metadata": {
    "collapsed": false
   },
   "outputs": [
    {
     "data": {
      "text/html": [
       "<table border=\"1\" class=\"dataframe\">\n",
       "    <thead>\n",
       "        <tr>\n",
       "            <th>Household ID</th> <th>Individual ID</th> <th>Day of Birth</th> <th>Month of Birth</th> <th>Birth Year</th> <th>Age in Years</th> <th>Sex</th> <th>Height</th> <th>Weight</th> <th>Relationship to HH Head</th> <th>Mother ID</th> <th>Father ID</th> <th>Currently Enrolled in School</th> <th>Years of Schooling - Level</th> <th>Years of Schooling - Years</th> <th>Master ID</th> <th>Day of Interview</th> <th>Month of Interview</th> <th>Year of Interview</th> <th>Days Old</th> <th>Years Old</th> <th>Months Old</th>\n",
       "        </tr>\n",
       "    </thead>\n",
       "    <tbody>\n",
       "        <tr>\n",
       "            <td>20111642    </td> <td>3            </td> <td>3           </td> <td>7             </td> <td>1976      </td> <td>31          </td> <td>2   </td> <td>-99   </td> <td>-99   </td> <td>9                      </td> <td>-99      </td> <td>-99      </td> <td>-99                         </td> <td>2                         </td> <td>5                         </td> <td>-1363194477</td> <td>10              </td> <td>7                 </td> <td>2007             </td> <td>11329.8 </td> <td>31.0404  </td> <td>371.467   </td>\n",
       "        </tr>\n",
       "    </tbody>\n",
       "        <tr>\n",
       "            <td>20111642    </td> <td>4            </td> <td>10          </td> <td>9             </td> <td>1995      </td> <td>11          </td> <td>2   </td> <td>-99   </td> <td>-99   </td> <td>5                      </td> <td>3        </td> <td>2        </td> <td>1                           </td> <td>-99                       </td> <td>-99                       </td> <td>-1363194476</td> <td>10              </td> <td>7                 </td> <td>2007             </td> <td>4322    </td> <td>11.8411  </td> <td>141.705   </td>\n",
       "        </tr>\n",
       "    </tbody>\n",
       "        <tr>\n",
       "            <td>20111642    </td> <td>5            </td> <td>20          </td> <td>4             </td> <td>1997      </td> <td>10          </td> <td>1   </td> <td>-99   </td> <td>-99   </td> <td>5                      </td> <td>3        </td> <td>2        </td> <td>1                           </td> <td>-99                       </td> <td>-99                       </td> <td>-1363194475</td> <td>10              </td> <td>7                 </td> <td>2007             </td> <td>3734    </td> <td>10.2301  </td> <td>122.426   </td>\n",
       "        </tr>\n",
       "    </tbody>\n",
       "        <tr>\n",
       "            <td>20111642    </td> <td>6            </td> <td>26          </td> <td>12            </td> <td>1999      </td> <td>7           </td> <td>1   </td> <td>-99   </td> <td>-99   </td> <td>5                      </td> <td>3        </td> <td>2        </td> <td>-99                         </td> <td>-99                       </td> <td>-99                       </td> <td>-1363194474</td> <td>10              </td> <td>7                 </td> <td>2007             </td> <td>2753.5  </td> <td>7.54384  </td> <td>90.2787   </td>\n",
       "        </tr>\n",
       "    </tbody>\n",
       "        <tr>\n",
       "            <td>20111642    </td> <td>7            </td> <td>17          </td> <td>1             </td> <td>2000      </td> <td>7           </td> <td>1   </td> <td>-99   </td> <td>-99   </td> <td>5                      </td> <td>3        </td> <td>2        </td> <td>-99                         </td> <td>-99                       </td> <td>-99                       </td> <td>-1363194473</td> <td>10              </td> <td>7                 </td> <td>2007             </td> <td>2732.75 </td> <td>7.48699  </td> <td>89.5984   </td>\n",
       "        </tr>\n",
       "    </tbody>\n",
       "        <tr>\n",
       "            <td>20111642    </td> <td>8            </td> <td>26          </td> <td>5             </td> <td>2002      </td> <td>5           </td> <td>1   </td> <td>105.9 </td> <td>22.6  </td> <td>5                      </td> <td>3        </td> <td>2        </td> <td>-99                         </td> <td>-99                       </td> <td>-99                       </td> <td>-1363194472</td> <td>10              </td> <td>7                 </td> <td>2007             </td> <td>1871.25 </td> <td>5.12671  </td> <td>61.3525   </td>\n",
       "        </tr>\n",
       "    </tbody>\n",
       "        <tr>\n",
       "            <td>20111642    </td> <td>9            </td> <td>5           </td> <td>1             </td> <td>2005      </td> <td>2           </td> <td>2   </td> <td>80.5  </td> <td>9.5   </td> <td>5                      </td> <td>3        </td> <td>2        </td> <td>-99                         </td> <td>-99                       </td> <td>-99                       </td> <td>-1363194471</td> <td>10              </td> <td>7                 </td> <td>2007             </td> <td>918.5   </td> <td>2.51644  </td> <td>30.1148   </td>\n",
       "        </tr>\n",
       "    </tbody>\n",
       "        <tr>\n",
       "            <td>20111642    </td> <td>10           </td> <td>12          </td> <td>4             </td> <td>2006      </td> <td>1           </td> <td>2   </td> <td>70.3  </td> <td>7.1   </td> <td>5                      </td> <td>3        </td> <td>2        </td> <td>-99                         </td> <td>-99                       </td> <td>-99                       </td> <td>-1363194470</td> <td>10              </td> <td>7                 </td> <td>2007             </td> <td>454.75  </td> <td>1.24589  </td> <td>14.9098   </td>\n",
       "        </tr>\n",
       "    </tbody>\n",
       "        <tr>\n",
       "            <td>20113642    </td> <td>1            </td> <td>13          </td> <td>4             </td> <td>1966      </td> <td>41          </td> <td>1   </td> <td>-99   </td> <td>-99   </td> <td>1                      </td> <td>-99      </td> <td>-99      </td> <td>-99                         </td> <td>-99                       </td> <td>-99                       </td> <td>-1361194479</td> <td>10              </td> <td>7                 </td> <td>2007             </td> <td>15063.8 </td> <td>41.2705  </td> <td>493.893   </td>\n",
       "        </tr>\n",
       "    </tbody>\n",
       "        <tr>\n",
       "            <td>20113642    </td> <td>2            </td> <td>1           </td> <td>1             </td> <td>1969      </td> <td>38          </td> <td>2   </td> <td>-99   </td> <td>-99   </td> <td>2                      </td> <td>-99      </td> <td>-99      </td> <td>-99                         </td> <td>-99                       </td> <td>-99                       </td> <td>-1361194478</td> <td>10              </td> <td>7                 </td> <td>2007             </td> <td>14071.5 </td> <td>38.5521  </td> <td>461.361   </td>\n",
       "        </tr>\n",
       "    </tbody>\n",
       "</table>\n",
       "<p>... (23002 rows omitted)</p"
      ],
      "text/plain": [
       "Household ID | Individual ID | Day of Birth | Month of Birth | Birth Year | Age in Years | Sex  | Height | Weight | Relationship to HH Head | Mother ID | Father ID | Currently Enrolled in School | Years of Schooling - Level | Years of Schooling - Years | Master ID   | Day of Interview | Month of Interview | Year of Interview | Days Old | Years Old | Months Old\n",
       "20111642     | 3             | 3            | 7              | 1976       | 31           | 2    | -99    | -99    | 9                       | -99       | -99       | -99                          | 2                          | 5                          | -1363194477 | 10               | 7                  | 2007              | 11329.8  | 31.0404   | 371.467\n",
       "20111642     | 4             | 10           | 9              | 1995       | 11           | 2    | -99    | -99    | 5                       | 3         | 2         | 1                            | -99                        | -99                        | -1363194476 | 10               | 7                  | 2007              | 4322     | 11.8411   | 141.705\n",
       "20111642     | 5             | 20           | 4              | 1997       | 10           | 1    | -99    | -99    | 5                       | 3         | 2         | 1                            | -99                        | -99                        | -1363194475 | 10               | 7                  | 2007              | 3734     | 10.2301   | 122.426\n",
       "20111642     | 6             | 26           | 12             | 1999       | 7            | 1    | -99    | -99    | 5                       | 3         | 2         | -99                          | -99                        | -99                        | -1363194474 | 10               | 7                  | 2007              | 2753.5   | 7.54384   | 90.2787\n",
       "20111642     | 7             | 17           | 1              | 2000       | 7            | 1    | -99    | -99    | 5                       | 3         | 2         | -99                          | -99                        | -99                        | -1363194473 | 10               | 7                  | 2007              | 2732.75  | 7.48699   | 89.5984\n",
       "20111642     | 8             | 26           | 5              | 2002       | 5            | 1    | 105.9  | 22.6   | 5                       | 3         | 2         | -99                          | -99                        | -99                        | -1363194472 | 10               | 7                  | 2007              | 1871.25  | 5.12671   | 61.3525\n",
       "20111642     | 9             | 5            | 1              | 2005       | 2            | 2    | 80.5   | 9.5    | 5                       | 3         | 2         | -99                          | -99                        | -99                        | -1363194471 | 10               | 7                  | 2007              | 918.5    | 2.51644   | 30.1148\n",
       "20111642     | 10            | 12           | 4              | 2006       | 1            | 2    | 70.3   | 7.1    | 5                       | 3         | 2         | -99                          | -99                        | -99                        | -1363194470 | 10               | 7                  | 2007              | 454.75   | 1.24589   | 14.9098\n",
       "20113642     | 1             | 13           | 4              | 1966       | 41           | 1    | -99    | -99    | 1                       | -99       | -99       | -99                          | -99                        | -99                        | -1361194479 | 10               | 7                  | 2007              | 15063.8  | 41.2705   | 493.893\n",
       "20113642     | 2             | 1            | 1              | 1969       | 38           | 2    | -99    | -99    | 2                       | -99       | -99       | -99                          | -99                        | -99                        | -1361194478 | 10               | 7                  | 2007              | 14071.5  | 38.5521   | 461.361\n",
       "... (23002 rows omitted)"
      ]
     },
     "execution_count": 2,
     "metadata": {},
     "output_type": "execute_result"
    }
   ],
   "source": [
    "# run this cell\n",
    "from datascience import *\n",
    "from pandas import read_stata\n",
    "import numpy as np\n",
    "#from pygrowup import Calculator\n",
    "\n",
    "import matplotlib\n",
    "matplotlib.use('Agg', warn=False)\n",
    "%matplotlib inline\n",
    "import matplotlib.pyplot as plots\n",
    "plots.style.use('fivethirtyeight')\n",
    "import warnings\n",
    "warnings.simplefilter(action=\"ignore\", category=FutureWarning)\n",
    "\n",
    "data = Table.read_table('Lab_3.csv')\n",
    "data"
   ]
  },
  {
   "cell_type": "markdown",
   "metadata": {},
   "source": [
    "# Household Composition\n",
    "In this lab, we are going to look at who is in the household, and see if household composition correlates with child growth."
   ]
  },
  {
   "cell_type": "markdown",
   "metadata": {},
   "source": [
    "Our first goal will be to make a pie graph that illustrates the sex and age composition of household members.  Make new columns that indicate what is the percentage of the household composed of young children girls ages 0-5, young children boys ages 0-5, girls ages 6-17, boys ages 6-17, women ages 18-59, men ages 18-59, elderly women ages 60+, and elderly men ages 60+.\n",
    "\n",
    "For example, if the household is the following\n",
    ">Barack 55\n",
    "\n",
    ">Michelle 52\n",
    "\n",
    ">Malia 18\n",
    "\n",
    ">Sasha 15\n",
    "\n",
    ">Marian 70\n",
    "\n",
    "20% are men ages 18-59, 40% are women ages 18-59, 20% are girls ages 6-17, and 20% are women ages 60+.  All the other categories are 0%.\n",
    "\n",
    "\n",
    "To do this calculatation, you will need to add up total number of people in the household, and then the total number of people in each category."
   ]
  },
  {
   "cell_type": "code",
   "execution_count": 3,
   "metadata": {
    "collapsed": false
   },
   "outputs": [
    {
     "data": {
      "text/html": [
       "<table border=\"1\" class=\"dataframe\">\n",
       "    <thead>\n",
       "        <tr>\n",
       "            <th>Household ID</th> <th>Individual ID</th> <th>Day of Birth</th> <th>Month of Birth</th> <th>Birth Year</th> <th>Age in Years</th> <th>Sex</th> <th>Height</th> <th>Weight</th> <th>Relationship to HH Head</th> <th>Mother ID</th> <th>Father ID</th> <th>Currently Enrolled in School</th> <th>Years of Schooling - Level</th> <th>Years of Schooling - Years</th> <th>Master ID</th> <th>Day of Interview</th> <th>Month of Interview</th> <th>Year of Interview</th> <th>Days Old</th> <th>Years Old</th> <th>Months Old</th> <th>Age Category</th> <th>Boys 0-5</th> <th>Girls 0-5</th> <th>Boys 6-17</th> <th>Girls 6-17</th> <th>Men 18-59</th> <th>Women 18-59</th> <th>Men 60+</th> <th>Women 60+</th>\n",
       "        </tr>\n",
       "    </thead>\n",
       "    <tbody>\n",
       "        <tr>\n",
       "            <td>20111642    </td> <td>3            </td> <td>3           </td> <td>7             </td> <td>1976      </td> <td>31          </td> <td>2   </td> <td>-99   </td> <td>-99   </td> <td>9                      </td> <td>-99      </td> <td>-99      </td> <td>-99                         </td> <td>2                         </td> <td>5                         </td> <td>-1363194477</td> <td>10              </td> <td>7                 </td> <td>2007             </td> <td>11329.8 </td> <td>31.0404  </td> <td>371.467   </td> <td>3           </td> <td>0.125   </td> <td>0.25     </td> <td>0.375    </td> <td>0.125     </td> <td>0        </td> <td>0.125      </td> <td>0      </td> <td>0        </td>\n",
       "        </tr>\n",
       "    </tbody>\n",
       "        <tr>\n",
       "            <td>20111642    </td> <td>4            </td> <td>10          </td> <td>9             </td> <td>1995      </td> <td>11          </td> <td>2   </td> <td>-99   </td> <td>-99   </td> <td>5                      </td> <td>3        </td> <td>2        </td> <td>1                           </td> <td>-99                       </td> <td>-99                       </td> <td>-1363194476</td> <td>10              </td> <td>7                 </td> <td>2007             </td> <td>4322    </td> <td>11.8411  </td> <td>141.705   </td> <td>2           </td> <td>0.125   </td> <td>0.25     </td> <td>0.375    </td> <td>0.125     </td> <td>0        </td> <td>0.125      </td> <td>0      </td> <td>0        </td>\n",
       "        </tr>\n",
       "    </tbody>\n",
       "        <tr>\n",
       "            <td>20111642    </td> <td>5            </td> <td>20          </td> <td>4             </td> <td>1997      </td> <td>10          </td> <td>1   </td> <td>-99   </td> <td>-99   </td> <td>5                      </td> <td>3        </td> <td>2        </td> <td>1                           </td> <td>-99                       </td> <td>-99                       </td> <td>-1363194475</td> <td>10              </td> <td>7                 </td> <td>2007             </td> <td>3734    </td> <td>10.2301  </td> <td>122.426   </td> <td>2           </td> <td>0.125   </td> <td>0.25     </td> <td>0.375    </td> <td>0.125     </td> <td>0        </td> <td>0.125      </td> <td>0      </td> <td>0        </td>\n",
       "        </tr>\n",
       "    </tbody>\n",
       "        <tr>\n",
       "            <td>20111642    </td> <td>6            </td> <td>26          </td> <td>12            </td> <td>1999      </td> <td>7           </td> <td>1   </td> <td>-99   </td> <td>-99   </td> <td>5                      </td> <td>3        </td> <td>2        </td> <td>-99                         </td> <td>-99                       </td> <td>-99                       </td> <td>-1363194474</td> <td>10              </td> <td>7                 </td> <td>2007             </td> <td>2753.5  </td> <td>7.54384  </td> <td>90.2787   </td> <td>2           </td> <td>0.125   </td> <td>0.25     </td> <td>0.375    </td> <td>0.125     </td> <td>0        </td> <td>0.125      </td> <td>0      </td> <td>0        </td>\n",
       "        </tr>\n",
       "    </tbody>\n",
       "        <tr>\n",
       "            <td>20111642    </td> <td>7            </td> <td>17          </td> <td>1             </td> <td>2000      </td> <td>7           </td> <td>1   </td> <td>-99   </td> <td>-99   </td> <td>5                      </td> <td>3        </td> <td>2        </td> <td>-99                         </td> <td>-99                       </td> <td>-99                       </td> <td>-1363194473</td> <td>10              </td> <td>7                 </td> <td>2007             </td> <td>2732.75 </td> <td>7.48699  </td> <td>89.5984   </td> <td>2           </td> <td>0.125   </td> <td>0.25     </td> <td>0.375    </td> <td>0.125     </td> <td>0        </td> <td>0.125      </td> <td>0      </td> <td>0        </td>\n",
       "        </tr>\n",
       "    </tbody>\n",
       "        <tr>\n",
       "            <td>20111642    </td> <td>8            </td> <td>26          </td> <td>5             </td> <td>2002      </td> <td>5           </td> <td>1   </td> <td>105.9 </td> <td>22.6  </td> <td>5                      </td> <td>3        </td> <td>2        </td> <td>-99                         </td> <td>-99                       </td> <td>-99                       </td> <td>-1363194472</td> <td>10              </td> <td>7                 </td> <td>2007             </td> <td>1871.25 </td> <td>5.12671  </td> <td>61.3525   </td> <td>1           </td> <td>0.125   </td> <td>0.25     </td> <td>0.375    </td> <td>0.125     </td> <td>0        </td> <td>0.125      </td> <td>0      </td> <td>0        </td>\n",
       "        </tr>\n",
       "    </tbody>\n",
       "        <tr>\n",
       "            <td>20111642    </td> <td>9            </td> <td>5           </td> <td>1             </td> <td>2005      </td> <td>2           </td> <td>2   </td> <td>80.5  </td> <td>9.5   </td> <td>5                      </td> <td>3        </td> <td>2        </td> <td>-99                         </td> <td>-99                       </td> <td>-99                       </td> <td>-1363194471</td> <td>10              </td> <td>7                 </td> <td>2007             </td> <td>918.5   </td> <td>2.51644  </td> <td>30.1148   </td> <td>1           </td> <td>0.125   </td> <td>0.25     </td> <td>0.375    </td> <td>0.125     </td> <td>0        </td> <td>0.125      </td> <td>0      </td> <td>0        </td>\n",
       "        </tr>\n",
       "    </tbody>\n",
       "        <tr>\n",
       "            <td>20111642    </td> <td>10           </td> <td>12          </td> <td>4             </td> <td>2006      </td> <td>1           </td> <td>2   </td> <td>70.3  </td> <td>7.1   </td> <td>5                      </td> <td>3        </td> <td>2        </td> <td>-99                         </td> <td>-99                       </td> <td>-99                       </td> <td>-1363194470</td> <td>10              </td> <td>7                 </td> <td>2007             </td> <td>454.75  </td> <td>1.24589  </td> <td>14.9098   </td> <td>1           </td> <td>0.125   </td> <td>0.25     </td> <td>0.375    </td> <td>0.125     </td> <td>0        </td> <td>0.125      </td> <td>0      </td> <td>0        </td>\n",
       "        </tr>\n",
       "    </tbody>\n",
       "        <tr>\n",
       "            <td>20113642    </td> <td>1            </td> <td>13          </td> <td>4             </td> <td>1966      </td> <td>41          </td> <td>1   </td> <td>-99   </td> <td>-99   </td> <td>1                      </td> <td>-99      </td> <td>-99      </td> <td>-99                         </td> <td>-99                       </td> <td>-99                       </td> <td>-1361194479</td> <td>10              </td> <td>7                 </td> <td>2007             </td> <td>15063.8 </td> <td>41.2705  </td> <td>493.893   </td> <td>3           </td> <td>0.285714</td> <td>0.142857 </td> <td>0.285714 </td> <td>0         </td> <td>0.142857 </td> <td>0.142857   </td> <td>0      </td> <td>0        </td>\n",
       "        </tr>\n",
       "    </tbody>\n",
       "        <tr>\n",
       "            <td>20113642    </td> <td>2            </td> <td>1           </td> <td>1             </td> <td>1969      </td> <td>38          </td> <td>2   </td> <td>-99   </td> <td>-99   </td> <td>2                      </td> <td>-99      </td> <td>-99      </td> <td>-99                         </td> <td>-99                       </td> <td>-99                       </td> <td>-1361194478</td> <td>10              </td> <td>7                 </td> <td>2007             </td> <td>14071.5 </td> <td>38.5521  </td> <td>461.361   </td> <td>3           </td> <td>0.285714</td> <td>0.142857 </td> <td>0.285714 </td> <td>0         </td> <td>0.142857 </td> <td>0.142857   </td> <td>0      </td> <td>0        </td>\n",
       "        </tr>\n",
       "    </tbody>\n",
       "</table>\n",
       "<p>... (23002 rows omitted)</p"
      ],
      "text/plain": [
       "Household ID | Individual ID | Day of Birth | Month of Birth | Birth Year | Age in Years | Sex  | Height | Weight | Relationship to HH Head | Mother ID | Father ID | Currently Enrolled in School | Years of Schooling - Level | Years of Schooling - Years | Master ID   | Day of Interview | Month of Interview | Year of Interview | Days Old | Years Old | Months Old | Age Category | Boys 0-5 | Girls 0-5 | Boys 6-17 | Girls 6-17 | Men 18-59 | Women 18-59 | Men 60+ | Women 60+\n",
       "20111642     | 3             | 3            | 7              | 1976       | 31           | 2    | -99    | -99    | 9                       | -99       | -99       | -99                          | 2                          | 5                          | -1363194477 | 10               | 7                  | 2007              | 11329.8  | 31.0404   | 371.467    | 3            | 0.125    | 0.25      | 0.375     | 0.125      | 0         | 0.125       | 0       | 0\n",
       "20111642     | 4             | 10           | 9              | 1995       | 11           | 2    | -99    | -99    | 5                       | 3         | 2         | 1                            | -99                        | -99                        | -1363194476 | 10               | 7                  | 2007              | 4322     | 11.8411   | 141.705    | 2            | 0.125    | 0.25      | 0.375     | 0.125      | 0         | 0.125       | 0       | 0\n",
       "20111642     | 5             | 20           | 4              | 1997       | 10           | 1    | -99    | -99    | 5                       | 3         | 2         | 1                            | -99                        | -99                        | -1363194475 | 10               | 7                  | 2007              | 3734     | 10.2301   | 122.426    | 2            | 0.125    | 0.25      | 0.375     | 0.125      | 0         | 0.125       | 0       | 0\n",
       "20111642     | 6             | 26           | 12             | 1999       | 7            | 1    | -99    | -99    | 5                       | 3         | 2         | -99                          | -99                        | -99                        | -1363194474 | 10               | 7                  | 2007              | 2753.5   | 7.54384   | 90.2787    | 2            | 0.125    | 0.25      | 0.375     | 0.125      | 0         | 0.125       | 0       | 0\n",
       "20111642     | 7             | 17           | 1              | 2000       | 7            | 1    | -99    | -99    | 5                       | 3         | 2         | -99                          | -99                        | -99                        | -1363194473 | 10               | 7                  | 2007              | 2732.75  | 7.48699   | 89.5984    | 2            | 0.125    | 0.25      | 0.375     | 0.125      | 0         | 0.125       | 0       | 0\n",
       "20111642     | 8             | 26           | 5              | 2002       | 5            | 1    | 105.9  | 22.6   | 5                       | 3         | 2         | -99                          | -99                        | -99                        | -1363194472 | 10               | 7                  | 2007              | 1871.25  | 5.12671   | 61.3525    | 1            | 0.125    | 0.25      | 0.375     | 0.125      | 0         | 0.125       | 0       | 0\n",
       "20111642     | 9             | 5            | 1              | 2005       | 2            | 2    | 80.5   | 9.5    | 5                       | 3         | 2         | -99                          | -99                        | -99                        | -1363194471 | 10               | 7                  | 2007              | 918.5    | 2.51644   | 30.1148    | 1            | 0.125    | 0.25      | 0.375     | 0.125      | 0         | 0.125       | 0       | 0\n",
       "20111642     | 10            | 12           | 4              | 2006       | 1            | 2    | 70.3   | 7.1    | 5                       | 3         | 2         | -99                          | -99                        | -99                        | -1363194470 | 10               | 7                  | 2007              | 454.75   | 1.24589   | 14.9098    | 1            | 0.125    | 0.25      | 0.375     | 0.125      | 0         | 0.125       | 0       | 0\n",
       "20113642     | 1             | 13           | 4              | 1966       | 41           | 1    | -99    | -99    | 1                       | -99       | -99       | -99                          | -99                        | -99                        | -1361194479 | 10               | 7                  | 2007              | 15063.8  | 41.2705   | 493.893    | 3            | 0.285714 | 0.142857  | 0.285714  | 0          | 0.142857  | 0.142857    | 0       | 0\n",
       "20113642     | 2             | 1            | 1              | 1969       | 38           | 2    | -99    | -99    | 2                       | -99       | -99       | -99                          | -99                        | -99                        | -1361194478 | 10               | 7                  | 2007              | 14071.5  | 38.5521   | 461.361    | 3            | 0.285714 | 0.142857  | 0.285714  | 0          | 0.142857  | 0.142857    | 0       | 0\n",
       "... (23002 rows omitted)"
      ]
     },
     "execution_count": 3,
     "metadata": {},
     "output_type": "execute_result"
    }
   ],
   "source": [
    "#This cell will take a while to run\n",
    "\n",
    "def age_category(age):\n",
    "    if age < 6:\n",
    "        return 1\n",
    "    elif age < 18:\n",
    "        return 2\n",
    "    elif age < 60:\n",
    "        return 3\n",
    "    else:\n",
    "        return 4\n",
    "\n",
    "data['Age Category'] = data.apply(age_category, 'Years Old')\n",
    "categories = data.pivot('Household ID', ['Age Category', 'Sex'])\n",
    "\n",
    "household_table = Table(['Household ID', 'Boys 0-5', 'Girls 0-5', 'Boys 6-17', 'Girls 6-17', 'Men 18-59', 'Women 18-59', 'Men 60+', 'Women 60+'])\n",
    "households = data.group('Household ID')['Household ID']\n",
    "for household_id in households:\n",
    "    household_data = categories[str(household_id)]\n",
    "    num_members = sum(household_data)\n",
    "    category_values = household_data/num_members\n",
    "    household_table.append([household_id] + list(category_values))\n",
    "\n",
    "data = data.join('Household ID', household_table)\n",
    "data"
   ]
  },
  {
   "cell_type": "markdown",
   "metadata": {},
   "source": [
    "Call the table that keeps just one row per household with these percentiles computed from the entire household.   \n",
    "<font color=\"Blue\"> Item 1: What would happen to our estimations of average household composition if we kept all rows?"
   ]
  },
  {
   "cell_type": "code",
   "execution_count": null,
   "metadata": {
    "collapsed": true
   },
   "outputs": [],
   "source": []
  },
  {
   "cell_type": "markdown",
   "metadata": {},
   "source": [
    "<font color=\"Blue\"> Item 2: Make a pie graph of the average percentages of people of these age categories in the household.  "
   ]
  },
  {
   "cell_type": "code",
   "execution_count": 4,
   "metadata": {
    "collapsed": false
   },
   "outputs": [
    {
     "data": {
      "image/png": "[encoded data removed]",
      "text/plain": [
       "<matplotlib.figure.Figure at 0xa0c40b8>"
      ]
     },
     "metadata": {},
     "output_type": "display_data"
    }
   ],
   "source": [
    "household_means = household_table.drop('Household ID').mean().row(0)\n",
    "\n",
    "household_means_table = Table().with_column('Means', household_means).with_column('Labels', ['Boys 0-5', 'Girls 0-5', 'Boys 6-17', 'Girls 6-17', 'Men 18-59', 'Women 18-59', 'Men 60+', 'Women 60+'])\n",
    "household_means_table.barh(column_for_categories='Labels')"
   ]
  },
  {
   "cell_type": "code",
   "execution_count": 5,
   "metadata": {
    "collapsed": false
   },
   "outputs": [
    {
     "data": {
      "text/plain": [
       "(-1.0285640021670122,\n",
       " 1.0000000008709264,\n",
       " -1.0306398787691256,\n",
       " 1.0036630168167855)"
      ]
     },
     "execution_count": 5,
     "metadata": {},
     "output_type": "execute_result"
    },
    {
     "data": {
      "image/png": "[encoded data removed]",
      "text/plain": [
       "<matplotlib.figure.Figure at 0xb158080>"
      ]
     },
     "metadata": {},
     "output_type": "display_data"
    }
   ],
   "source": [
    "#This makes the pie chart\n",
    "labels = household_means_table['Labels']\n",
    "sizes = household_means_table['Means']\n",
    "customcolormap = [(x/7.0,  x/7.0, 0.85) for x in range(len(household_means))]\n",
    "\n",
    "plots.pie(sizes, labels=labels, colors=customcolormap, autopct='%1.1f%%')\n",
    "plots.axis('equal')"
   ]
  },
  {
   "cell_type": "markdown",
   "metadata": {},
   "source": [
    "As in the reading for today, let's see which of our households are nuclear families. We will make a new column indicating if the household is a \"standard\" nuclear family: contains father, mother, and children.  We will divide the making of this column into several steps in order to code this new column: we will make three new columns with true/false values and if all are true, then the final new column \"Nuclear Family\" will have a true value.\n",
    "\n",
    "a) Determine that the household head has a spouse."
   ]
  },
  {
   "cell_type": "code",
   "execution_count": 6,
   "metadata": {
    "collapsed": false
   },
   "outputs": [
    {
     "data": {
      "text/html": [
       "<table border=\"1\" class=\"dataframe\">\n",
       "    <thead>\n",
       "        <tr>\n",
       "            <th>Household ID</th> <th>1</th> <th>2</th> <th>3</th> <th>4</th> <th>5</th> <th>6</th> <th>7</th> <th>8</th> <th>9</th> <th>10</th> <th>11</th> <th>12</th> <th>13</th> <th>14</th> <th>15</th> <th>16</th> <th>17</th>\n",
       "        </tr>\n",
       "    </thead>\n",
       "    <tbody>\n",
       "        <tr>\n",
       "            <td>20111642    </td> <td>0   </td> <td>0   </td> <td>0   </td> <td>0   </td> <td>7   </td> <td>0   </td> <td>0   </td> <td>0   </td> <td>1   </td> <td>0   </td> <td>0   </td> <td>0   </td> <td>0   </td> <td>0   </td> <td>0   </td> <td>0   </td> <td>0   </td>\n",
       "        </tr>\n",
       "    </tbody>\n",
       "        <tr>\n",
       "            <td>20113642    </td> <td>1   </td> <td>1   </td> <td>5   </td> <td>0   </td> <td>0   </td> <td>0   </td> <td>0   </td> <td>0   </td> <td>0   </td> <td>0   </td> <td>0   </td> <td>0   </td> <td>0   </td> <td>0   </td> <td>0   </td> <td>0   </td> <td>0   </td>\n",
       "        </tr>\n",
       "    </tbody>\n",
       "        <tr>\n",
       "            <td>20114642    </td> <td>1   </td> <td>1   </td> <td>4   </td> <td>0   </td> <td>0   </td> <td>0   </td> <td>0   </td> <td>0   </td> <td>0   </td> <td>0   </td> <td>0   </td> <td>0   </td> <td>0   </td> <td>0   </td> <td>0   </td> <td>0   </td> <td>0   </td>\n",
       "        </tr>\n",
       "    </tbody>\n",
       "        <tr>\n",
       "            <td>20118642    </td> <td>1   </td> <td>1   </td> <td>1   </td> <td>0   </td> <td>0   </td> <td>0   </td> <td>0   </td> <td>0   </td> <td>0   </td> <td>0   </td> <td>0   </td> <td>0   </td> <td>0   </td> <td>0   </td> <td>0   </td> <td>0   </td> <td>0   </td>\n",
       "        </tr>\n",
       "    </tbody>\n",
       "        <tr>\n",
       "            <td>20119642    </td> <td>1   </td> <td>1   </td> <td>3   </td> <td>0   </td> <td>0   </td> <td>0   </td> <td>0   </td> <td>0   </td> <td>0   </td> <td>0   </td> <td>0   </td> <td>0   </td> <td>0   </td> <td>0   </td> <td>0   </td> <td>0   </td> <td>0   </td>\n",
       "        </tr>\n",
       "    </tbody>\n",
       "</table>\n",
       "<p>... (4378 rows omitted)</p"
      ],
      "text/plain": [
       "<IPython.core.display.HTML object>"
      ]
     },
     "metadata": {},
     "output_type": "display_data"
    },
    {
     "data": {
      "text/html": [
       "<table border=\"1\" class=\"dataframe\">\n",
       "    <thead>\n",
       "        <tr>\n",
       "            <th>Household ID</th> <th>Head has Spouse</th>\n",
       "        </tr>\n",
       "    </thead>\n",
       "    <tbody>\n",
       "        <tr>\n",
       "            <td>20111642    </td> <td>False          </td>\n",
       "        </tr>\n",
       "    </tbody>\n",
       "        <tr>\n",
       "            <td>20113642    </td> <td>True           </td>\n",
       "        </tr>\n",
       "    </tbody>\n",
       "        <tr>\n",
       "            <td>20114642    </td> <td>True           </td>\n",
       "        </tr>\n",
       "    </tbody>\n",
       "        <tr>\n",
       "            <td>20118642    </td> <td>True           </td>\n",
       "        </tr>\n",
       "    </tbody>\n",
       "        <tr>\n",
       "            <td>20119642    </td> <td>True           </td>\n",
       "        </tr>\n",
       "    </tbody>\n",
       "</table>\n",
       "<p>... (4378 rows omitted)</p"
      ],
      "text/plain": [
       "<IPython.core.display.HTML object>"
      ]
     },
     "metadata": {},
     "output_type": "display_data"
    }
   ],
   "source": [
    "household_relations = data.pivot('Relationship to HH Head', 'Household ID')\n",
    "\n",
    "has_spouse = Table().with_column('Household ID', household_relations['Household ID']).with_column('Head has Spouse', household_relations['2'] > 0)\n",
    "\n",
    "household_relations.show(5)\n",
    "has_spouse.show(5)"
   ]
  },
  {
   "cell_type": "markdown",
   "metadata": {},
   "source": [
    "b) Determine if all the children in the family are children of the head. For this exercise, we will use the relation to the head column.  Next lab we will use the ids of mothers and fathers to work this out. "
   ]
  },
  {
   "cell_type": "code",
   "execution_count": 7,
   "metadata": {
    "collapsed": false
   },
   "outputs": [
    {
     "data": {
      "text/html": [
       "<table border=\"1\" class=\"dataframe\">\n",
       "    <thead>\n",
       "        <tr>\n",
       "            <th>Household ID</th> <th>Has Children</th>\n",
       "        </tr>\n",
       "    </thead>\n",
       "    <tbody>\n",
       "        <tr>\n",
       "            <td>20111642    </td> <td>False       </td>\n",
       "        </tr>\n",
       "    </tbody>\n",
       "        <tr>\n",
       "            <td>20113642    </td> <td>True        </td>\n",
       "        </tr>\n",
       "    </tbody>\n",
       "        <tr>\n",
       "            <td>20114642    </td> <td>True        </td>\n",
       "        </tr>\n",
       "    </tbody>\n",
       "        <tr>\n",
       "            <td>20118642    </td> <td>True        </td>\n",
       "        </tr>\n",
       "    </tbody>\n",
       "        <tr>\n",
       "            <td>20119642    </td> <td>True        </td>\n",
       "        </tr>\n",
       "    </tbody>\n",
       "        <tr>\n",
       "            <td>20121642    </td> <td>True        </td>\n",
       "        </tr>\n",
       "    </tbody>\n",
       "        <tr>\n",
       "            <td>20122642    </td> <td>True        </td>\n",
       "        </tr>\n",
       "    </tbody>\n",
       "        <tr>\n",
       "            <td>20123642    </td> <td>True        </td>\n",
       "        </tr>\n",
       "    </tbody>\n",
       "        <tr>\n",
       "            <td>20124642    </td> <td>True        </td>\n",
       "        </tr>\n",
       "    </tbody>\n",
       "        <tr>\n",
       "            <td>20125642    </td> <td>True        </td>\n",
       "        </tr>\n",
       "    </tbody>\n",
       "</table>\n",
       "<p>... (4373 rows omitted)</p"
      ],
      "text/plain": [
       "Household ID | Has Children\n",
       "20111642     | False\n",
       "20113642     | True\n",
       "20114642     | True\n",
       "20118642     | True\n",
       "20119642     | True\n",
       "20121642     | True\n",
       "20122642     | True\n",
       "20123642     | True\n",
       "20124642     | True\n",
       "20125642     | True\n",
       "... (4373 rows omitted)"
      ]
     },
     "execution_count": 7,
     "metadata": {},
     "output_type": "execute_result"
    }
   ],
   "source": [
    "#First we are going to see if each family has children\n",
    "#Look back at has_spouse to see how to do this\n",
    "has_children = Table().with_column('Household ID', household_relations['Household ID']).with_column('Has Children', household_relations['3'] > 0)\n",
    "has_children"
   ]
  },
  {
   "cell_type": "markdown",
   "metadata": {},
   "source": [
    "c) Determine there is no one else but these people in the household"
   ]
  },
  {
   "cell_type": "code",
   "execution_count": 10,
   "metadata": {
    "collapsed": false
   },
   "outputs": [
    {
     "data": {
      "text/html": [
       "<table border=\"1\" class=\"dataframe\">\n",
       "    <thead>\n",
       "        <tr>\n",
       "            <th>Household ID</th> <th>1</th> <th>2</th> <th>3</th> <th>4</th> <th>5</th> <th>6</th> <th>7</th> <th>8</th> <th>9</th> <th>10</th> <th>11</th> <th>12</th> <th>13</th> <th>14</th> <th>15</th> <th>16</th> <th>17</th>\n",
       "        </tr>\n",
       "    </thead>\n",
       "    <tbody>\n",
       "        <tr>\n",
       "            <td>20111642    </td> <td>0   </td> <td>0   </td> <td>0   </td> <td>16  </td> <td>7   </td> <td>0   </td> <td>0   </td> <td>0   </td> <td>1   </td> <td>0   </td> <td>0   </td> <td>0   </td> <td>0   </td> <td>0   </td> <td>0   </td> <td>0   </td> <td>0   </td>\n",
       "        </tr>\n",
       "    </tbody>\n",
       "        <tr>\n",
       "            <td>20113642    </td> <td>1   </td> <td>1   </td> <td>5   </td> <td>0   </td> <td>0   </td> <td>0   </td> <td>0   </td> <td>0   </td> <td>0   </td> <td>0   </td> <td>0   </td> <td>0   </td> <td>0   </td> <td>0   </td> <td>0   </td> <td>0   </td> <td>0   </td>\n",
       "        </tr>\n",
       "    </tbody>\n",
       "        <tr>\n",
       "            <td>20114642    </td> <td>1   </td> <td>1   </td> <td>4   </td> <td>0   </td> <td>0   </td> <td>0   </td> <td>0   </td> <td>0   </td> <td>0   </td> <td>0   </td> <td>0   </td> <td>0   </td> <td>0   </td> <td>0   </td> <td>0   </td> <td>0   </td> <td>0   </td>\n",
       "        </tr>\n",
       "    </tbody>\n",
       "        <tr>\n",
       "            <td>20118642    </td> <td>1   </td> <td>1   </td> <td>1   </td> <td>0   </td> <td>0   </td> <td>0   </td> <td>0   </td> <td>0   </td> <td>0   </td> <td>0   </td> <td>0   </td> <td>0   </td> <td>0   </td> <td>0   </td> <td>0   </td> <td>0   </td> <td>0   </td>\n",
       "        </tr>\n",
       "    </tbody>\n",
       "        <tr>\n",
       "            <td>20119642    </td> <td>1   </td> <td>1   </td> <td>3   </td> <td>0   </td> <td>0   </td> <td>0   </td> <td>0   </td> <td>0   </td> <td>0   </td> <td>0   </td> <td>0   </td> <td>0   </td> <td>0   </td> <td>0   </td> <td>0   </td> <td>0   </td> <td>0   </td>\n",
       "        </tr>\n",
       "    </tbody>\n",
       "        <tr>\n",
       "            <td>20121642    </td> <td>1   </td> <td>1   </td> <td>1   </td> <td>0   </td> <td>0   </td> <td>0   </td> <td>0   </td> <td>0   </td> <td>0   </td> <td>0   </td> <td>0   </td> <td>0   </td> <td>0   </td> <td>0   </td> <td>0   </td> <td>0   </td> <td>0   </td>\n",
       "        </tr>\n",
       "    </tbody>\n",
       "        <tr>\n",
       "            <td>20122642    </td> <td>1   </td> <td>1   </td> <td>2   </td> <td>0   </td> <td>0   </td> <td>0   </td> <td>0   </td> <td>0   </td> <td>0   </td> <td>0   </td> <td>0   </td> <td>0   </td> <td>0   </td> <td>0   </td> <td>0   </td> <td>0   </td> <td>0   </td>\n",
       "        </tr>\n",
       "    </tbody>\n",
       "        <tr>\n",
       "            <td>20123642    </td> <td>1   </td> <td>1   </td> <td>1   </td> <td>0   </td> <td>0   </td> <td>0   </td> <td>0   </td> <td>0   </td> <td>0   </td> <td>0   </td> <td>0   </td> <td>0   </td> <td>0   </td> <td>0   </td> <td>0   </td> <td>0   </td> <td>0   </td>\n",
       "        </tr>\n",
       "    </tbody>\n",
       "        <tr>\n",
       "            <td>20124642    </td> <td>1   </td> <td>1   </td> <td>4   </td> <td>0   </td> <td>0   </td> <td>0   </td> <td>0   </td> <td>0   </td> <td>0   </td> <td>0   </td> <td>0   </td> <td>0   </td> <td>0   </td> <td>0   </td> <td>0   </td> <td>0   </td> <td>0   </td>\n",
       "        </tr>\n",
       "    </tbody>\n",
       "        <tr>\n",
       "            <td>20125642    </td> <td>1   </td> <td>1   </td> <td>6   </td> <td>0   </td> <td>0   </td> <td>0   </td> <td>0   </td> <td>0   </td> <td>0   </td> <td>0   </td> <td>0   </td> <td>0   </td> <td>0   </td> <td>0   </td> <td>0   </td> <td>0   </td> <td>0   </td>\n",
       "        </tr>\n",
       "    </tbody>\n",
       "</table>\n",
       "<p>... (4373 rows omitted)</p"
      ],
      "text/plain": [
       "Household ID | 1    | 2    | 3    | 4    | 5    | 6    | 7    | 8    | 9    | 10   | 11   | 12   | 13   | 14   | 15   | 16   | 17\n",
       "20111642     | 0    | 0    | 0    | 16   | 7    | 0    | 0    | 0    | 1    | 0    | 0    | 0    | 0    | 0    | 0    | 0    | 0\n",
       "20113642     | 1    | 1    | 5    | 0    | 0    | 0    | 0    | 0    | 0    | 0    | 0    | 0    | 0    | 0    | 0    | 0    | 0\n",
       "20114642     | 1    | 1    | 4    | 0    | 0    | 0    | 0    | 0    | 0    | 0    | 0    | 0    | 0    | 0    | 0    | 0    | 0\n",
       "20118642     | 1    | 1    | 1    | 0    | 0    | 0    | 0    | 0    | 0    | 0    | 0    | 0    | 0    | 0    | 0    | 0    | 0\n",
       "20119642     | 1    | 1    | 3    | 0    | 0    | 0    | 0    | 0    | 0    | 0    | 0    | 0    | 0    | 0    | 0    | 0    | 0\n",
       "20121642     | 1    | 1    | 1    | 0    | 0    | 0    | 0    | 0    | 0    | 0    | 0    | 0    | 0    | 0    | 0    | 0    | 0\n",
       "20122642     | 1    | 1    | 2    | 0    | 0    | 0    | 0    | 0    | 0    | 0    | 0    | 0    | 0    | 0    | 0    | 0    | 0\n",
       "20123642     | 1    | 1    | 1    | 0    | 0    | 0    | 0    | 0    | 0    | 0    | 0    | 0    | 0    | 0    | 0    | 0    | 0\n",
       "20124642     | 1    | 1    | 4    | 0    | 0    | 0    | 0    | 0    | 0    | 0    | 0    | 0    | 0    | 0    | 0    | 0    | 0\n",
       "20125642     | 1    | 1    | 6    | 0    | 0    | 0    | 0    | 0    | 0    | 0    | 0    | 0    | 0    | 0    | 0    | 0    | 0\n",
       "... (4373 rows omitted)"
      ]
     },
     "execution_count": 10,
     "metadata": {},
     "output_type": "execute_result"
    }
   ],
   "source": [
    "household_relations"
   ]
  },
  {
   "cell_type": "code",
   "execution_count": 9,
   "metadata": {
    "collapsed": false
   },
   "outputs": [],
   "source": [
    "other_members = household_relations['4']\n",
    "for i in range(5,10):\n",
    "    other_members += household_relations[str(int(i))]\n",
    "    \n",
    "only_parents_and_children = other_members == 0\n",
    "\n",
    "#is_nuclear['Only Parents And Children'] = only_parents_and_children\n",
    "#is_nuclear\n",
    "\n",
    "def family_is_nuclear(row):\n",
    "    return row[1] and row[2]\n",
    "\n",
    "#is_nuclear['Is Nuclear'] = is_nuclear.apply(family_is_nuclear)\n",
    "#is_nuclear"
   ]
  },
  {
   "cell_type": "markdown",
   "metadata": {},
   "source": [
    "d) Join the 'Is Nuclear' column from the is_nuclear table onto your main data table"
   ]
  },
  {
   "cell_type": "code",
   "execution_count": null,
   "metadata": {
    "collapsed": false
   },
   "outputs": [],
   "source": [
    "data = data.join('Household ID', is_nuclear)"
   ]
  },
  {
   "cell_type": "markdown",
   "metadata": {},
   "source": [
    "<font color=\"Blue\"> Item 3: What percentage of families are nuclear families?"
   ]
  },
  {
   "cell_type": "code",
   "execution_count": null,
   "metadata": {
    "collapsed": false
   },
   "outputs": [],
   "source": [
    "sum(is_nuclear['Is Nuclear'])/is_nuclear.num_rows"
   ]
  },
  {
   "cell_type": "markdown",
   "metadata": {},
   "source": [
    "<font color=\"Blue\"> Item 4: Among nuclear families, what is the average number of children?  Given the reading, what do these two statistics imply about your country's economic development?"
   ]
  },
  {
   "cell_type": "code",
   "execution_count": null,
   "metadata": {
    "collapsed": false
   },
   "outputs": [],
   "source": [
    "nuclear_family = data.where(data['Is Nuclear'])\n",
    "nuclear_family_children = nuclear_family.where('Relationship to HH Head', 3)\n",
    "\n",
    "nuclear_family_children.num_rows /  nuclear_family.group('Household ID').num_rows"
   ]
  },
  {
   "cell_type": "markdown",
   "metadata": {},
   "source": [
    "Let's see if being in a nuclear family is associated with better child health outcomes.  For simplicity, let's just look at 3-year-olds.  \n",
    "<font color=\"Blue\"> Item 5: Compare average Height for age Z scores (HAZ) of 3-year-olds in nuclear families with 3-year-olds not in nuclear families.  Is this what you expected?  Explain why."
   ]
  },
  {
   "cell_type": "code",
   "execution_count": null,
   "metadata": {
    "collapsed": false
   },
   "outputs": [],
   "source": [
    "not_nuclear_family = data.where(data['Is Nuclear'] == False)\n",
    "\n",
    "nuclear_family_children.where('Age', 3)['z_score']"
   ]
  },
  {
   "cell_type": "markdown",
   "metadata": {},
   "source": [
    "In some cases, larger families are associated with greater poverty.  However, some family members in large families may be more valuable to child health than others.  \n",
    "<font color=\"Blue\"> Item 6: Make a graph to compare the HAZ of children in families with no elderly women but elderly men to children in families with no elderly men but elderly women in the family.  "
   ]
  },
  {
   "cell_type": "code",
   "execution_count": null,
   "metadata": {
    "collapsed": true
   },
   "outputs": [],
   "source": []
  },
  {
   "cell_type": "markdown",
   "metadata": {},
   "source": [
    "Child health can be related to income.  We might expect that a larger proportion of earners results in better child health.  On the other hand, we may also want to take into account that more people or children in the household might compete for consuming these resources.  \n",
    "\n",
    "<font color=\"Blue\"> Item 7: Propose a measure of household composition that takes at least these two considerations into account.  (example: ratio of children to adults).  Explain why you think this is a good mesaure to try.\n",
    "\n",
    "<font color=\"Blue\"> Item 8: Make a scatter plot of your measure with HAZ of 3-year-olds.  Did it come out as you expected?  If not, perhaps try a different measure.  If none come out as you expect, why do you think?  What other factors would you like to be able to take into account?"
   ]
  },
  {
   "cell_type": "code",
   "execution_count": null,
   "metadata": {
    "collapsed": true
   },
   "outputs": [],
   "source": []
  },
  {
   "cell_type": "code",
   "execution_count": 2,
   "metadata": {
    "collapsed": false
   },
   "outputs": [
    {
     "data": {
      "text/html": [
       "<table border=\"1\" class=\"dataframe\">\n",
       "    <thead>\n",
       "        <tr>\n",
       "            <th>Household ID</th> <th>Individual ID</th> <th>Day of Birth</th> <th>Month of Birth</th> <th>Birth Year</th> <th>Age in Years</th> <th>Sex</th> <th>Height</th> <th>Weight</th> <th>Relationship to HH Head</th> <th>Mother ID</th> <th>Father ID</th> <th>Currently Enrolled in School</th> <th>Years of Schooling - Level</th> <th>Years of Schooling - Years</th> <th>Master ID</th> <th>Day of Interview</th> <th>Month of Interview</th> <th>Year of Interview</th> <th>Days Old</th> <th>Years Old</th> <th>Months Old</th>\n",
       "        </tr>\n",
       "    </thead>\n",
       "    <tbody>\n",
       "        <tr>\n",
       "            <td>20111642    </td> <td>3            </td> <td>3           </td> <td>7             </td> <td>1976      </td> <td>31          </td> <td>2   </td> <td>-99   </td> <td>-99   </td> <td>9                      </td> <td>-99      </td> <td>-99      </td> <td>-99                         </td> <td>2                         </td> <td>5                         </td> <td>-1363194477</td> <td>10              </td> <td>7                 </td> <td>2007             </td> <td>11329.8 </td> <td>31.0404  </td> <td>371.467   </td>\n",
       "        </tr>\n",
       "    </tbody>\n",
       "        <tr>\n",
       "            <td>20111642    </td> <td>4            </td> <td>10          </td> <td>9             </td> <td>1995      </td> <td>11          </td> <td>2   </td> <td>-99   </td> <td>-99   </td> <td>5                      </td> <td>3        </td> <td>2        </td> <td>1                           </td> <td>-99                       </td> <td>-99                       </td> <td>-1363194476</td> <td>10              </td> <td>7                 </td> <td>2007             </td> <td>4322    </td> <td>11.8411  </td> <td>141.705   </td>\n",
       "        </tr>\n",
       "    </tbody>\n",
       "        <tr>\n",
       "            <td>20111642    </td> <td>5            </td> <td>20          </td> <td>4             </td> <td>1997      </td> <td>10          </td> <td>1   </td> <td>-99   </td> <td>-99   </td> <td>5                      </td> <td>3        </td> <td>2        </td> <td>1                           </td> <td>-99                       </td> <td>-99                       </td> <td>-1363194475</td> <td>10              </td> <td>7                 </td> <td>2007             </td> <td>3734    </td> <td>10.2301  </td> <td>122.426   </td>\n",
       "        </tr>\n",
       "    </tbody>\n",
       "        <tr>\n",
       "            <td>20111642    </td> <td>6            </td> <td>26          </td> <td>12            </td> <td>1999      </td> <td>7           </td> <td>1   </td> <td>-99   </td> <td>-99   </td> <td>5                      </td> <td>3        </td> <td>2        </td> <td>-99                         </td> <td>-99                       </td> <td>-99                       </td> <td>-1363194474</td> <td>10              </td> <td>7                 </td> <td>2007             </td> <td>2753.5  </td> <td>7.54384  </td> <td>90.2787   </td>\n",
       "        </tr>\n",
       "    </tbody>\n",
       "        <tr>\n",
       "            <td>20111642    </td> <td>7            </td> <td>17          </td> <td>1             </td> <td>2000      </td> <td>7           </td> <td>1   </td> <td>-99   </td> <td>-99   </td> <td>5                      </td> <td>3        </td> <td>2        </td> <td>-99                         </td> <td>-99                       </td> <td>-99                       </td> <td>-1363194473</td> <td>10              </td> <td>7                 </td> <td>2007             </td> <td>2732.75 </td> <td>7.48699  </td> <td>89.5984   </td>\n",
       "        </tr>\n",
       "    </tbody>\n",
       "        <tr>\n",
       "            <td>20111642    </td> <td>8            </td> <td>26          </td> <td>5             </td> <td>2002      </td> <td>5           </td> <td>1   </td> <td>105.9 </td> <td>22.6  </td> <td>5                      </td> <td>3        </td> <td>2        </td> <td>-99                         </td> <td>-99                       </td> <td>-99                       </td> <td>-1363194472</td> <td>10              </td> <td>7                 </td> <td>2007             </td> <td>1871.25 </td> <td>5.12671  </td> <td>61.3525   </td>\n",
       "        </tr>\n",
       "    </tbody>\n",
       "        <tr>\n",
       "            <td>20111642    </td> <td>9            </td> <td>5           </td> <td>1             </td> <td>2005      </td> <td>2           </td> <td>2   </td> <td>80.5  </td> <td>9.5   </td> <td>5                      </td> <td>3        </td> <td>2        </td> <td>-99                         </td> <td>-99                       </td> <td>-99                       </td> <td>-1363194471</td> <td>10              </td> <td>7                 </td> <td>2007             </td> <td>918.5   </td> <td>2.51644  </td> <td>30.1148   </td>\n",
       "        </tr>\n",
       "    </tbody>\n",
       "        <tr>\n",
       "            <td>20111642    </td> <td>10           </td> <td>12          </td> <td>4             </td> <td>2006      </td> <td>1           </td> <td>2   </td> <td>70.3  </td> <td>7.1   </td> <td>5                      </td> <td>3        </td> <td>2        </td> <td>-99                         </td> <td>-99                       </td> <td>-99                       </td> <td>-1363194470</td> <td>10              </td> <td>7                 </td> <td>2007             </td> <td>454.75  </td> <td>1.24589  </td> <td>14.9098   </td>\n",
       "        </tr>\n",
       "    </tbody>\n",
       "        <tr>\n",
       "            <td>20113642    </td> <td>1            </td> <td>13          </td> <td>4             </td> <td>1966      </td> <td>41          </td> <td>1   </td> <td>-99   </td> <td>-99   </td> <td>1                      </td> <td>-99      </td> <td>-99      </td> <td>-99                         </td> <td>-99                       </td> <td>-99                       </td> <td>-1361194479</td> <td>10              </td> <td>7                 </td> <td>2007             </td> <td>15063.8 </td> <td>41.2705  </td> <td>493.893   </td>\n",
       "        </tr>\n",
       "    </tbody>\n",
       "        <tr>\n",
       "            <td>20113642    </td> <td>2            </td> <td>1           </td> <td>1             </td> <td>1969      </td> <td>38          </td> <td>2   </td> <td>-99   </td> <td>-99   </td> <td>2                      </td> <td>-99      </td> <td>-99      </td> <td>-99                         </td> <td>-99                       </td> <td>-99                       </td> <td>-1361194478</td> <td>10              </td> <td>7                 </td> <td>2007             </td> <td>14071.5 </td> <td>38.5521  </td> <td>461.361   </td>\n",
       "        </tr>\n",
       "    </tbody>\n",
       "</table>\n",
       "<p>... (23002 rows omitted)</p"
      ],
      "text/plain": [
       "Household ID | Individual ID | Day of Birth | Month of Birth | Birth Year | Age in Years | Sex  | Height | Weight | Relationship to HH Head | Mother ID | Father ID | Currently Enrolled in School | Years of Schooling - Level | Years of Schooling - Years | Master ID   | Day of Interview | Month of Interview | Year of Interview | Days Old | Years Old | Months Old\n",
       "20111642     | 3             | 3            | 7              | 1976       | 31           | 2    | -99    | -99    | 9                       | -99       | -99       | -99                          | 2                          | 5                          | -1363194477 | 10               | 7                  | 2007              | 11329.8  | 31.0404   | 371.467\n",
       "20111642     | 4             | 10           | 9              | 1995       | 11           | 2    | -99    | -99    | 5                       | 3         | 2         | 1                            | -99                        | -99                        | -1363194476 | 10               | 7                  | 2007              | 4322     | 11.8411   | 141.705\n",
       "20111642     | 5             | 20           | 4              | 1997       | 10           | 1    | -99    | -99    | 5                       | 3         | 2         | 1                            | -99                        | -99                        | -1363194475 | 10               | 7                  | 2007              | 3734     | 10.2301   | 122.426\n",
       "20111642     | 6             | 26           | 12             | 1999       | 7            | 1    | -99    | -99    | 5                       | 3         | 2         | -99                          | -99                        | -99                        | -1363194474 | 10               | 7                  | 2007              | 2753.5   | 7.54384   | 90.2787\n",
       "20111642     | 7             | 17           | 1              | 2000       | 7            | 1    | -99    | -99    | 5                       | 3         | 2         | -99                          | -99                        | -99                        | -1363194473 | 10               | 7                  | 2007              | 2732.75  | 7.48699   | 89.5984\n",
       "20111642     | 8             | 26           | 5              | 2002       | 5            | 1    | 105.9  | 22.6   | 5                       | 3         | 2         | -99                          | -99                        | -99                        | -1363194472 | 10               | 7                  | 2007              | 1871.25  | 5.12671   | 61.3525\n",
       "20111642     | 9             | 5            | 1              | 2005       | 2            | 2    | 80.5   | 9.5    | 5                       | 3         | 2         | -99                          | -99                        | -99                        | -1363194471 | 10               | 7                  | 2007              | 918.5    | 2.51644   | 30.1148\n",
       "20111642     | 10            | 12           | 4              | 2006       | 1            | 2    | 70.3   | 7.1    | 5                       | 3         | 2         | -99                          | -99                        | -99                        | -1363194470 | 10               | 7                  | 2007              | 454.75   | 1.24589   | 14.9098\n",
       "20113642     | 1             | 13           | 4              | 1966       | 41           | 1    | -99    | -99    | 1                       | -99       | -99       | -99                          | -99                        | -99                        | -1361194479 | 10               | 7                  | 2007              | 15063.8  | 41.2705   | 493.893\n",
       "20113642     | 2             | 1            | 1              | 1969       | 38           | 2    | -99    | -99    | 2                       | -99       | -99       | -99                          | -99                        | -99                        | -1361194478 | 10               | 7                  | 2007              | 14071.5  | 38.5521   | 461.361\n",
       "... (23002 rows omitted)"
      ]
     },
     "execution_count": 2,
     "metadata": {},
     "output_type": "execute_result"
    }
   ],
   "source": [
    "# run this cell\n",
    "from datascience import *\n",
    "from pandas import read_stata\n",
    "import numpy as np\n",
    "#from pygrowup import Calculator\n",
    "\n",
    "import matplotlib\n",
    "matplotlib.use('Agg', warn=False)\n",
    "%matplotlib inline\n",
    "import matplotlib.pyplot as plots\n",
    "plots.style.use('fivethirtyeight')\n",
    "import warnings\n",
    "warnings.simplefilter(action=\"ignore\", category=FutureWarning)\n",
    "\n",
    "data = Table.read_table('Lab_3.csv')\n",
    "data"
   ]
  },
  {
   "cell_type": "markdown",
   "metadata": {},
   "source": [
    "# Household Composition\n",
    "In this lab, we are going to look at who is in the household, and see if household composition correlates with child growth."
   ]
  },
  {
   "cell_type": "markdown",
   "metadata": {},
   "source": [
    "Our first goal will be to make a pie graph that illustrates the sex and age composition of household members.  Make new columns that indicate what is the percentage of the household composed of young children girls ages 0-5, young children boys ages 0-5, girls ages 6-17, boys ages 6-17, women ages 18-59, men ages 18-59, elderly women ages 60+, and elderly men ages 60+.\n",
    "\n",
    "For example, if the household is the following\n",
    ">Barack 55\n",
    "\n",
    ">Michelle 52\n",
    "\n",
    ">Malia 18\n",
    "\n",
    ">Sasha 15\n",
    "\n",
    ">Marian 70\n",
    "\n",
    "20% are men ages 18-59, 40% are women ages 18-59, 20% are girls ages 6-17, and 20% are women ages 60+.  All the other categories are 0%.\n",
    "\n",
    "\n",
    "To do this calculatation, you will need to add up total number of people in the household, and then the total number of people in each category."
   ]
  },
  {
   "cell_type": "code",
   "execution_count": 3,
   "metadata": {
    "collapsed": false
   },
   "outputs": [
    {
     "data": {
      "text/html": [
       "<table border=\"1\" class=\"dataframe\">\n",
       "    <thead>\n",
       "        <tr>\n",
       "            <th>Household ID</th> <th>Individual ID</th> <th>Day of Birth</th> <th>Month of Birth</th> <th>Birth Year</th> <th>Age in Years</th> <th>Sex</th> <th>Height</th> <th>Weight</th> <th>Relationship to HH Head</th> <th>Mother ID</th> <th>Father ID</th> <th>Currently Enrolled in School</th> <th>Years of Schooling - Level</th> <th>Years of Schooling - Years</th> <th>Master ID</th> <th>Day of Interview</th> <th>Month of Interview</th> <th>Year of Interview</th> <th>Days Old</th> <th>Years Old</th> <th>Months Old</th> <th>Age Category</th> <th>Boys 0-5</th> <th>Girls 0-5</th> <th>Boys 6-17</th> <th>Girls 6-17</th> <th>Men 18-59</th> <th>Women 18-59</th> <th>Men 60+</th> <th>Women 60+</th>\n",
       "        </tr>\n",
       "    </thead>\n",
       "    <tbody>\n",
       "        <tr>\n",
       "            <td>20111642    </td> <td>3            </td> <td>3           </td> <td>7             </td> <td>1976      </td> <td>31          </td> <td>2   </td> <td>-99   </td> <td>-99   </td> <td>9                      </td> <td>-99      </td> <td>-99      </td> <td>-99                         </td> <td>2                         </td> <td>5                         </td> <td>-1363194477</td> <td>10              </td> <td>7                 </td> <td>2007             </td> <td>11329.8 </td> <td>31.0404  </td> <td>371.467   </td> <td>3           </td> <td>0.125   </td> <td>0.25     </td> <td>0.375    </td> <td>0.125     </td> <td>0        </td> <td>0.125      </td> <td>0      </td> <td>0        </td>\n",
       "        </tr>\n",
       "    </tbody>\n",
       "        <tr>\n",
       "            <td>20111642    </td> <td>4            </td> <td>10          </td> <td>9             </td> <td>1995      </td> <td>11          </td> <td>2   </td> <td>-99   </td> <td>-99   </td> <td>5                      </td> <td>3        </td> <td>2        </td> <td>1                           </td> <td>-99                       </td> <td>-99                       </td> <td>-1363194476</td> <td>10              </td> <td>7                 </td> <td>2007             </td> <td>4322    </td> <td>11.8411  </td> <td>141.705   </td> <td>2           </td> <td>0.125   </td> <td>0.25     </td> <td>0.375    </td> <td>0.125     </td> <td>0        </td> <td>0.125      </td> <td>0      </td> <td>0        </td>\n",
       "        </tr>\n",
       "    </tbody>\n",
       "        <tr>\n",
       "            <td>20111642    </td> <td>5            </td> <td>20          </td> <td>4             </td> <td>1997      </td> <td>10          </td> <td>1   </td> <td>-99   </td> <td>-99   </td> <td>5                      </td> <td>3        </td> <td>2        </td> <td>1                           </td> <td>-99                       </td> <td>-99                       </td> <td>-1363194475</td> <td>10              </td> <td>7                 </td> <td>2007             </td> <td>3734    </td> <td>10.2301  </td> <td>122.426   </td> <td>2           </td> <td>0.125   </td> <td>0.25     </td> <td>0.375    </td> <td>0.125     </td> <td>0        </td> <td>0.125      </td> <td>0      </td> <td>0        </td>\n",
       "        </tr>\n",
       "    </tbody>\n",
       "        <tr>\n",
       "            <td>20111642    </td> <td>6            </td> <td>26          </td> <td>12            </td> <td>1999      </td> <td>7           </td> <td>1   </td> <td>-99   </td> <td>-99   </td> <td>5                      </td> <td>3        </td> <td>2        </td> <td>-99                         </td> <td>-99                       </td> <td>-99                       </td> <td>-1363194474</td> <td>10              </td> <td>7                 </td> <td>2007             </td> <td>2753.5  </td> <td>7.54384  </td> <td>90.2787   </td> <td>2           </td> <td>0.125   </td> <td>0.25     </td> <td>0.375    </td> <td>0.125     </td> <td>0        </td> <td>0.125      </td> <td>0      </td> <td>0        </td>\n",
       "        </tr>\n",
       "    </tbody>\n",
       "        <tr>\n",
       "            <td>20111642    </td> <td>7            </td> <td>17          </td> <td>1             </td> <td>2000      </td> <td>7           </td> <td>1   </td> <td>-99   </td> <td>-99   </td> <td>5                      </td> <td>3        </td> <td>2        </td> <td>-99                         </td> <td>-99                       </td> <td>-99                       </td> <td>-1363194473</td> <td>10              </td> <td>7                 </td> <td>2007             </td> <td>2732.75 </td> <td>7.48699  </td> <td>89.5984   </td> <td>2           </td> <td>0.125   </td> <td>0.25     </td> <td>0.375    </td> <td>0.125     </td> <td>0        </td> <td>0.125      </td> <td>0      </td> <td>0        </td>\n",
       "        </tr>\n",
       "    </tbody>\n",
       "        <tr>\n",
       "            <td>20111642    </td> <td>8            </td> <td>26          </td> <td>5             </td> <td>2002      </td> <td>5           </td> <td>1   </td> <td>105.9 </td> <td>22.6  </td> <td>5                      </td> <td>3        </td> <td>2        </td> <td>-99                         </td> <td>-99                       </td> <td>-99                       </td> <td>-1363194472</td> <td>10              </td> <td>7                 </td> <td>2007             </td> <td>1871.25 </td> <td>5.12671  </td> <td>61.3525   </td> <td>1           </td> <td>0.125   </td> <td>0.25     </td> <td>0.375    </td> <td>0.125     </td> <td>0        </td> <td>0.125      </td> <td>0      </td> <td>0        </td>\n",
       "        </tr>\n",
       "    </tbody>\n",
       "        <tr>\n",
       "            <td>20111642    </td> <td>9            </td> <td>5           </td> <td>1             </td> <td>2005      </td> <td>2           </td> <td>2   </td> <td>80.5  </td> <td>9.5   </td> <td>5                      </td> <td>3        </td> <td>2        </td> <td>-99                         </td> <td>-99                       </td> <td>-99                       </td> <td>-1363194471</td> <td>10              </td> <td>7                 </td> <td>2007             </td> <td>918.5   </td> <td>2.51644  </td> <td>30.1148   </td> <td>1           </td> <td>0.125   </td> <td>0.25     </td> <td>0.375    </td> <td>0.125     </td> <td>0        </td> <td>0.125      </td> <td>0      </td> <td>0        </td>\n",
       "        </tr>\n",
       "    </tbody>\n",
       "        <tr>\n",
       "            <td>20111642    </td> <td>10           </td> <td>12          </td> <td>4             </td> <td>2006      </td> <td>1           </td> <td>2   </td> <td>70.3  </td> <td>7.1   </td> <td>5                      </td> <td>3        </td> <td>2        </td> <td>-99                         </td> <td>-99                       </td> <td>-99                       </td> <td>-1363194470</td> <td>10              </td> <td>7                 </td> <td>2007             </td> <td>454.75  </td> <td>1.24589  </td> <td>14.9098   </td> <td>1           </td> <td>0.125   </td> <td>0.25     </td> <td>0.375    </td> <td>0.125     </td> <td>0        </td> <td>0.125      </td> <td>0      </td> <td>0        </td>\n",
       "        </tr>\n",
       "    </tbody>\n",
       "        <tr>\n",
       "            <td>20113642    </td> <td>1            </td> <td>13          </td> <td>4             </td> <td>1966      </td> <td>41          </td> <td>1   </td> <td>-99   </td> <td>-99   </td> <td>1                      </td> <td>-99      </td> <td>-99      </td> <td>-99                         </td> <td>-99                       </td> <td>-99                       </td> <td>-1361194479</td> <td>10              </td> <td>7                 </td> <td>2007             </td> <td>15063.8 </td> <td>41.2705  </td> <td>493.893   </td> <td>3           </td> <td>0.285714</td> <td>0.142857 </td> <td>0.285714 </td> <td>0         </td> <td>0.142857 </td> <td>0.142857   </td> <td>0      </td> <td>0        </td>\n",
       "        </tr>\n",
       "    </tbody>\n",
       "        <tr>\n",
       "            <td>20113642    </td> <td>2            </td> <td>1           </td> <td>1             </td> <td>1969      </td> <td>38          </td> <td>2   </td> <td>-99   </td> <td>-99   </td> <td>2                      </td> <td>-99      </td> <td>-99      </td> <td>-99                         </td> <td>-99                       </td> <td>-99                       </td> <td>-1361194478</td> <td>10              </td> <td>7                 </td> <td>2007             </td> <td>14071.5 </td> <td>38.5521  </td> <td>461.361   </td> <td>3           </td> <td>0.285714</td> <td>0.142857 </td> <td>0.285714 </td> <td>0         </td> <td>0.142857 </td> <td>0.142857   </td> <td>0      </td> <td>0        </td>\n",
       "        </tr>\n",
       "    </tbody>\n",
       "</table>\n",
       "<p>... (23002 rows omitted)</p"
      ],
      "text/plain": [
       "Household ID | Individual ID | Day of Birth | Month of Birth | Birth Year | Age in Years | Sex  | Height | Weight | Relationship to HH Head | Mother ID | Father ID | Currently Enrolled in School | Years of Schooling - Level | Years of Schooling - Years | Master ID   | Day of Interview | Month of Interview | Year of Interview | Days Old | Years Old | Months Old | Age Category | Boys 0-5 | Girls 0-5 | Boys 6-17 | Girls 6-17 | Men 18-59 | Women 18-59 | Men 60+ | Women 60+\n",
       "20111642     | 3             | 3            | 7              | 1976       | 31           | 2    | -99    | -99    | 9                       | -99       | -99       | -99                          | 2                          | 5                          | -1363194477 | 10               | 7                  | 2007              | 11329.8  | 31.0404   | 371.467    | 3            | 0.125    | 0.25      | 0.375     | 0.125      | 0         | 0.125       | 0       | 0\n",
       "20111642     | 4             | 10           | 9              | 1995       | 11           | 2    | -99    | -99    | 5                       | 3         | 2         | 1                            | -99                        | -99                        | -1363194476 | 10               | 7                  | 2007              | 4322     | 11.8411   | 141.705    | 2            | 0.125    | 0.25      | 0.375     | 0.125      | 0         | 0.125       | 0       | 0\n",
       "20111642     | 5             | 20           | 4              | 1997       | 10           | 1    | -99    | -99    | 5                       | 3         | 2         | 1                            | -99                        | -99                        | -1363194475 | 10               | 7                  | 2007              | 3734     | 10.2301   | 122.426    | 2            | 0.125    | 0.25      | 0.375     | 0.125      | 0         | 0.125       | 0       | 0\n",
       "20111642     | 6             | 26           | 12             | 1999       | 7            | 1    | -99    | -99    | 5                       | 3         | 2         | -99                          | -99                        | -99                        | -1363194474 | 10               | 7                  | 2007              | 2753.5   | 7.54384   | 90.2787    | 2            | 0.125    | 0.25      | 0.375     | 0.125      | 0         | 0.125       | 0       | 0\n",
       "20111642     | 7             | 17           | 1              | 2000       | 7            | 1    | -99    | -99    | 5                       | 3         | 2         | -99                          | -99                        | -99                        | -1363194473 | 10               | 7                  | 2007              | 2732.75  | 7.48699   | 89.5984    | 2            | 0.125    | 0.25      | 0.375     | 0.125      | 0         | 0.125       | 0       | 0\n",
       "20111642     | 8             | 26           | 5              | 2002       | 5            | 1    | 105.9  | 22.6   | 5                       | 3         | 2         | -99                          | -99                        | -99                        | -1363194472 | 10               | 7                  | 2007              | 1871.25  | 5.12671   | 61.3525    | 1            | 0.125    | 0.25      | 0.375     | 0.125      | 0         | 0.125       | 0       | 0\n",
       "20111642     | 9             | 5            | 1              | 2005       | 2            | 2    | 80.5   | 9.5    | 5                       | 3         | 2         | -99                          | -99                        | -99                        | -1363194471 | 10               | 7                  | 2007              | 918.5    | 2.51644   | 30.1148    | 1            | 0.125    | 0.25      | 0.375     | 0.125      | 0         | 0.125       | 0       | 0\n",
       "20111642     | 10            | 12           | 4              | 2006       | 1            | 2    | 70.3   | 7.1    | 5                       | 3         | 2         | -99                          | -99                        | -99                        | -1363194470 | 10               | 7                  | 2007              | 454.75   | 1.24589   | 14.9098    | 1            | 0.125    | 0.25      | 0.375     | 0.125      | 0         | 0.125       | 0       | 0\n",
       "20113642     | 1             | 13           | 4              | 1966       | 41           | 1    | -99    | -99    | 1                       | -99       | -99       | -99                          | -99                        | -99                        | -1361194479 | 10               | 7                  | 2007              | 15063.8  | 41.2705   | 493.893    | 3            | 0.285714 | 0.142857  | 0.285714  | 0          | 0.142857  | 0.142857    | 0       | 0\n",
       "20113642     | 2             | 1            | 1              | 1969       | 38           | 2    | -99    | -99    | 2                       | -99       | -99       | -99                          | -99                        | -99                        | -1361194478 | 10               | 7                  | 2007              | 14071.5  | 38.5521   | 461.361    | 3            | 0.285714 | 0.142857  | 0.285714  | 0          | 0.142857  | 0.142857    | 0       | 0\n",
       "... (23002 rows omitted)"
      ]
     },
     "execution_count": 3,
     "metadata": {},
     "output_type": "execute_result"
    }
   ],
   "source": [
    "#This cell will take a while to run\n",
    "\n",
    "def age_category(age):\n",
    "    if age < 6:\n",
    "        return 1\n",
    "    elif age < 18:\n",
    "        return 2\n",
    "    elif age < 60:\n",
    "        return 3\n",
    "    else:\n",
    "        return 4\n",
    "\n",
    "data['Age Category'] = data.apply(age_category, 'Years Old')\n",
    "categories = data.pivot('Household ID', ['Age Category', 'Sex'])\n",
    "\n",
    "household_table = Table(['Household ID', 'Boys 0-5', 'Girls 0-5', 'Boys 6-17', 'Girls 6-17', 'Men 18-59', 'Women 18-59', 'Men 60+', 'Women 60+'])\n",
    "households = data.group('Household ID')['Household ID']\n",
    "for household_id in households:\n",
    "    household_data = categories[str(household_id)]\n",
    "    num_members = sum(household_data)\n",
    "    category_values = household_data/num_members\n",
    "    household_table.append([household_id] + list(category_values))\n",
    "\n",
    "data = data.join('Household ID', household_table)\n",
    "data"
   ]
  },
  {
   "cell_type": "markdown",
   "metadata": {},
   "source": [
    "Call the table that keeps just one row per household with these percentiles computed from the entire household.   \n",
    "<font color=\"Blue\"> Item 1: What would happen to our estimations of average household composition if we kept all rows?"
   ]
  },
  {
   "cell_type": "markdown",
   "metadata": {
    "collapsed": true
   },
   "source": [
    "[HELLO](#the pie chart)"
   ]
  },
  {
   "cell_type": "markdown",
   "metadata": {},
   "source": [
    "<font color=\"Blue\"> Item 2: Make a pie graph of the average percentages of people of these age categories in the household.  "
   ]
  },
  {
   "cell_type": "code",
   "execution_count": 4,
   "metadata": {
    "collapsed": false
   },
   "outputs": [
    {
     "data": {
      "image/png": "[encoded data removed]",
      "text/plain": [
       "<matplotlib.figure.Figure at 0xa0c40b8>"
      ]
     },
     "metadata": {},
     "output_type": "display_data"
    }
   ],
   "source": [
    "household_means = household_table.drop('Household ID').mean().row(0)\n",
    "\n",
    "household_means_table = Table().with_column('Means', household_means).with_column('Labels', ['Boys 0-5', 'Girls 0-5', 'Boys 6-17', 'Girls 6-17', 'Men 18-59', 'Women 18-59', 'Men 60+', 'Women 60+'])\n",
    "household_means_table.barh(column_for_categories='Labels')"
   ]
  },
  {
   "cell_type": "code",
   "execution_count": 5,
   "metadata": {
    "collapsed": false
   },
   "outputs": [
    {
     "data": {
      "text/plain": [
       "(-1.0285640021670122,\n",
       " 1.0000000008709264,\n",
       " -1.0306398787691256,\n",
       " 1.0036630168167855)"
      ]
     },
     "execution_count": 5,
     "metadata": {},
     "output_type": "execute_result"
    },
    {
     "data": {
      "image/png": "[encoded data removed]",
      "text/plain": [
       "<matplotlib.figure.Figure at 0xb158080>"
      ]
     },
     "metadata": {},
     "output_type": "display_data"
    }
   ],
   "source": [
    "#This makes the pie chart\n",
    "labels = household_means_table['Labels']\n",
    "sizes = household_means_table['Means']\n",
    "customcolormap = [(x/7.0,  x/7.0, 0.85) for x in range(len(household_means))]\n",
    "\n",
    "plots.pie(sizes, labels=labels, colors=customcolormap, autopct='%1.1f%%')\n",
    "plots.axis('equal')"
   ]
  },
  {
   "cell_type": "markdown",
   "metadata": {},
   "source": [
    "As in the reading for today, let's see which of our households are nuclear families. We will make a new column indicating if the household is a \"standard\" nuclear family: contains father, mother, and children.  We will divide the making of this column into several steps in order to code this new column: we will make three new columns with true/false values and if all are true, then the final new column \"Nuclear Family\" will have a true value.\n",
    "\n",
    "a) Determine that the household head has a spouse.\n",
    "\n",
    "<a id=\"the pie chart\"></a>"
   ]
  },
  {
   "cell_type": "code",
   "execution_count": 6,
   "metadata": {
    "collapsed": false
   },
   "outputs": [
    {
     "data": {
      "text/html": [
       "<table border=\"1\" class=\"dataframe\">\n",
       "    <thead>\n",
       "        <tr>\n",
       "            <th>Household ID</th> <th>1</th> <th>2</th> <th>3</th> <th>4</th> <th>5</th> <th>6</th> <th>7</th> <th>8</th> <th>9</th> <th>10</th> <th>11</th> <th>12</th> <th>13</th> <th>14</th> <th>15</th> <th>16</th> <th>17</th>\n",
       "        </tr>\n",
       "    </thead>\n",
       "    <tbody>\n",
       "        <tr>\n",
       "            <td>20111642    </td> <td>0   </td> <td>0   </td> <td>0   </td> <td>0   </td> <td>7   </td> <td>0   </td> <td>0   </td> <td>0   </td> <td>1   </td> <td>0   </td> <td>0   </td> <td>0   </td> <td>0   </td> <td>0   </td> <td>0   </td> <td>0   </td> <td>0   </td>\n",
       "        </tr>\n",
       "    </tbody>\n",
       "        <tr>\n",
       "            <td>20113642    </td> <td>1   </td> <td>1   </td> <td>5   </td> <td>0   </td> <td>0   </td> <td>0   </td> <td>0   </td> <td>0   </td> <td>0   </td> <td>0   </td> <td>0   </td> <td>0   </td> <td>0   </td> <td>0   </td> <td>0   </td> <td>0   </td> <td>0   </td>\n",
       "        </tr>\n",
       "    </tbody>\n",
       "        <tr>\n",
       "            <td>20114642    </td> <td>1   </td> <td>1   </td> <td>4   </td> <td>0   </td> <td>0   </td> <td>0   </td> <td>0   </td> <td>0   </td> <td>0   </td> <td>0   </td> <td>0   </td> <td>0   </td> <td>0   </td> <td>0   </td> <td>0   </td> <td>0   </td> <td>0   </td>\n",
       "        </tr>\n",
       "    </tbody>\n",
       "        <tr>\n",
       "            <td>20118642    </td> <td>1   </td> <td>1   </td> <td>1   </td> <td>0   </td> <td>0   </td> <td>0   </td> <td>0   </td> <td>0   </td> <td>0   </td> <td>0   </td> <td>0   </td> <td>0   </td> <td>0   </td> <td>0   </td> <td>0   </td> <td>0   </td> <td>0   </td>\n",
       "        </tr>\n",
       "    </tbody>\n",
       "        <tr>\n",
       "            <td>20119642    </td> <td>1   </td> <td>1   </td> <td>3   </td> <td>0   </td> <td>0   </td> <td>0   </td> <td>0   </td> <td>0   </td> <td>0   </td> <td>0   </td> <td>0   </td> <td>0   </td> <td>0   </td> <td>0   </td> <td>0   </td> <td>0   </td> <td>0   </td>\n",
       "        </tr>\n",
       "    </tbody>\n",
       "</table>\n",
       "<p>... (4378 rows omitted)</p"
      ],
      "text/plain": [
       "<IPython.core.display.HTML object>"
      ]
     },
     "metadata": {},
     "output_type": "display_data"
    },
    {
     "data": {
      "text/html": [
       "<table border=\"1\" class=\"dataframe\">\n",
       "    <thead>\n",
       "        <tr>\n",
       "            <th>Household ID</th> <th>Head has Spouse</th>\n",
       "        </tr>\n",
       "    </thead>\n",
       "    <tbody>\n",
       "        <tr>\n",
       "            <td>20111642    </td> <td>False          </td>\n",
       "        </tr>\n",
       "    </tbody>\n",
       "        <tr>\n",
       "            <td>20113642    </td> <td>True           </td>\n",
       "        </tr>\n",
       "    </tbody>\n",
       "        <tr>\n",
       "            <td>20114642    </td> <td>True           </td>\n",
       "        </tr>\n",
       "    </tbody>\n",
       "        <tr>\n",
       "            <td>20118642    </td> <td>True           </td>\n",
       "        </tr>\n",
       "    </tbody>\n",
       "        <tr>\n",
       "            <td>20119642    </td> <td>True           </td>\n",
       "        </tr>\n",
       "    </tbody>\n",
       "</table>\n",
       "<p>... (4378 rows omitted)</p"
      ],
      "text/plain": [
       "<IPython.core.display.HTML object>"
      ]
     },
     "metadata": {},
     "output_type": "display_data"
    }
   ],
   "source": [
    "household_relations = data.pivot('Relationship to HH Head', 'Household ID')\n",
    "\n",
    "has_spouse = Table().with_column('Household ID', household_relations['Household ID']).with_column('Head has Spouse', household_relations['2'] > 0)\n",
    "\n",
    "household_relations.show(5)\n",
    "has_spouse.show(5)"
   ]
  },
  {
   "cell_type": "markdown",
   "metadata": {},
   "source": [
    "b) Determine if all the children in the family are children of the head. For this exercise, we will use the relation to the head column.  Next lab we will use the ids of mothers and fathers to work this out. "
   ]
  },
  {
   "cell_type": "code",
   "execution_count": 7,
   "metadata": {
    "collapsed": false
   },
   "outputs": [
    {
     "data": {
      "text/html": [
       "<table border=\"1\" class=\"dataframe\">\n",
       "    <thead>\n",
       "        <tr>\n",
       "            <th>Household ID</th> <th>Has Children</th>\n",
       "        </tr>\n",
       "    </thead>\n",
       "    <tbody>\n",
       "        <tr>\n",
       "            <td>20111642    </td> <td>False       </td>\n",
       "        </tr>\n",
       "    </tbody>\n",
       "        <tr>\n",
       "            <td>20113642    </td> <td>True        </td>\n",
       "        </tr>\n",
       "    </tbody>\n",
       "        <tr>\n",
       "            <td>20114642    </td> <td>True        </td>\n",
       "        </tr>\n",
       "    </tbody>\n",
       "        <tr>\n",
       "            <td>20118642    </td> <td>True        </td>\n",
       "        </tr>\n",
       "    </tbody>\n",
       "        <tr>\n",
       "            <td>20119642    </td> <td>True        </td>\n",
       "        </tr>\n",
       "    </tbody>\n",
       "        <tr>\n",
       "            <td>20121642    </td> <td>True        </td>\n",
       "        </tr>\n",
       "    </tbody>\n",
       "        <tr>\n",
       "            <td>20122642    </td> <td>True        </td>\n",
       "        </tr>\n",
       "    </tbody>\n",
       "        <tr>\n",
       "            <td>20123642    </td> <td>True        </td>\n",
       "        </tr>\n",
       "    </tbody>\n",
       "        <tr>\n",
       "            <td>20124642    </td> <td>True        </td>\n",
       "        </tr>\n",
       "    </tbody>\n",
       "        <tr>\n",
       "            <td>20125642    </td> <td>True        </td>\n",
       "        </tr>\n",
       "    </tbody>\n",
       "</table>\n",
       "<p>... (4373 rows omitted)</p"
      ],
      "text/plain": [
       "Household ID | Has Children\n",
       "20111642     | False\n",
       "20113642     | True\n",
       "20114642     | True\n",
       "20118642     | True\n",
       "20119642     | True\n",
       "20121642     | True\n",
       "20122642     | True\n",
       "20123642     | True\n",
       "20124642     | True\n",
       "20125642     | True\n",
       "... (4373 rows omitted)"
      ]
     },
     "execution_count": 7,
     "metadata": {},
     "output_type": "execute_result"
    }
   ],
   "source": [
    "#First we are going to see if each family has children\n",
    "#Look back at has_spouse to see how to do this\n",
    "has_children = Table().with_column('Household ID', household_relations['Household ID']).with_column('Has Children', household_relations['3'] > 0)\n",
    "has_children"
   ]
  },
  {
   "cell_type": "markdown",
   "metadata": {},
   "source": [
    "c) Determine there is no one else but these people in the household"
   ]
  },
  {
   "cell_type": "code",
   "execution_count": 10,
   "metadata": {
    "collapsed": false
   },
   "outputs": [
    {
     "data": {
      "text/html": [
       "<table border=\"1\" class=\"dataframe\">\n",
       "    <thead>\n",
       "        <tr>\n",
       "            <th>Household ID</th> <th>1</th> <th>2</th> <th>3</th> <th>4</th> <th>5</th> <th>6</th> <th>7</th> <th>8</th> <th>9</th> <th>10</th> <th>11</th> <th>12</th> <th>13</th> <th>14</th> <th>15</th> <th>16</th> <th>17</th>\n",
       "        </tr>\n",
       "    </thead>\n",
       "    <tbody>\n",
       "        <tr>\n",
       "            <td>20111642    </td> <td>0   </td> <td>0   </td> <td>0   </td> <td>16  </td> <td>7   </td> <td>0   </td> <td>0   </td> <td>0   </td> <td>1   </td> <td>0   </td> <td>0   </td> <td>0   </td> <td>0   </td> <td>0   </td> <td>0   </td> <td>0   </td> <td>0   </td>\n",
       "        </tr>\n",
       "    </tbody>\n",
       "        <tr>\n",
       "            <td>20113642    </td> <td>1   </td> <td>1   </td> <td>5   </td> <td>0   </td> <td>0   </td> <td>0   </td> <td>0   </td> <td>0   </td> <td>0   </td> <td>0   </td> <td>0   </td> <td>0   </td> <td>0   </td> <td>0   </td> <td>0   </td> <td>0   </td> <td>0   </td>\n",
       "        </tr>\n",
       "    </tbody>\n",
       "        <tr>\n",
       "            <td>20114642    </td> <td>1   </td> <td>1   </td> <td>4   </td> <td>0   </td> <td>0   </td> <td>0   </td> <td>0   </td> <td>0   </td> <td>0   </td> <td>0   </td> <td>0   </td> <td>0   </td> <td>0   </td> <td>0   </td> <td>0   </td> <td>0   </td> <td>0   </td>\n",
       "        </tr>\n",
       "    </tbody>\n",
       "        <tr>\n",
       "            <td>20118642    </td> <td>1   </td> <td>1   </td> <td>1   </td> <td>0   </td> <td>0   </td> <td>0   </td> <td>0   </td> <td>0   </td> <td>0   </td> <td>0   </td> <td>0   </td> <td>0   </td> <td>0   </td> <td>0   </td> <td>0   </td> <td>0   </td> <td>0   </td>\n",
       "        </tr>\n",
       "    </tbody>\n",
       "        <tr>\n",
       "            <td>20119642    </td> <td>1   </td> <td>1   </td> <td>3   </td> <td>0   </td> <td>0   </td> <td>0   </td> <td>0   </td> <td>0   </td> <td>0   </td> <td>0   </td> <td>0   </td> <td>0   </td> <td>0   </td> <td>0   </td> <td>0   </td> <td>0   </td> <td>0   </td>\n",
       "        </tr>\n",
       "    </tbody>\n",
       "        <tr>\n",
       "            <td>20121642    </td> <td>1   </td> <td>1   </td> <td>1   </td> <td>0   </td> <td>0   </td> <td>0   </td> <td>0   </td> <td>0   </td> <td>0   </td> <td>0   </td> <td>0   </td> <td>0   </td> <td>0   </td> <td>0   </td> <td>0   </td> <td>0   </td> <td>0   </td>\n",
       "        </tr>\n",
       "    </tbody>\n",
       "        <tr>\n",
       "            <td>20122642    </td> <td>1   </td> <td>1   </td> <td>2   </td> <td>0   </td> <td>0   </td> <td>0   </td> <td>0   </td> <td>0   </td> <td>0   </td> <td>0   </td> <td>0   </td> <td>0   </td> <td>0   </td> <td>0   </td> <td>0   </td> <td>0   </td> <td>0   </td>\n",
       "        </tr>\n",
       "    </tbody>\n",
       "        <tr>\n",
       "            <td>20123642    </td> <td>1   </td> <td>1   </td> <td>1   </td> <td>0   </td> <td>0   </td> <td>0   </td> <td>0   </td> <td>0   </td> <td>0   </td> <td>0   </td> <td>0   </td> <td>0   </td> <td>0   </td> <td>0   </td> <td>0   </td> <td>0   </td> <td>0   </td>\n",
       "        </tr>\n",
       "    </tbody>\n",
       "        <tr>\n",
       "            <td>20124642    </td> <td>1   </td> <td>1   </td> <td>4   </td> <td>0   </td> <td>0   </td> <td>0   </td> <td>0   </td> <td>0   </td> <td>0   </td> <td>0   </td> <td>0   </td> <td>0   </td> <td>0   </td> <td>0   </td> <td>0   </td> <td>0   </td> <td>0   </td>\n",
       "        </tr>\n",
       "    </tbody>\n",
       "        <tr>\n",
       "            <td>20125642    </td> <td>1   </td> <td>1   </td> <td>6   </td> <td>0   </td> <td>0   </td> <td>0   </td> <td>0   </td> <td>0   </td> <td>0   </td> <td>0   </td> <td>0   </td> <td>0   </td> <td>0   </td> <td>0   </td> <td>0   </td> <td>0   </td> <td>0   </td>\n",
       "        </tr>\n",
       "    </tbody>\n",
       "</table>\n",
       "<p>... (4373 rows omitted)</p"
      ],
      "text/plain": [
       "Household ID | 1    | 2    | 3    | 4    | 5    | 6    | 7    | 8    | 9    | 10   | 11   | 12   | 13   | 14   | 15   | 16   | 17\n",
       "20111642     | 0    | 0    | 0    | 16   | 7    | 0    | 0    | 0    | 1    | 0    | 0    | 0    | 0    | 0    | 0    | 0    | 0\n",
       "20113642     | 1    | 1    | 5    | 0    | 0    | 0    | 0    | 0    | 0    | 0    | 0    | 0    | 0    | 0    | 0    | 0    | 0\n",
       "20114642     | 1    | 1    | 4    | 0    | 0    | 0    | 0    | 0    | 0    | 0    | 0    | 0    | 0    | 0    | 0    | 0    | 0\n",
       "20118642     | 1    | 1    | 1    | 0    | 0    | 0    | 0    | 0    | 0    | 0    | 0    | 0    | 0    | 0    | 0    | 0    | 0\n",
       "20119642     | 1    | 1    | 3    | 0    | 0    | 0    | 0    | 0    | 0    | 0    | 0    | 0    | 0    | 0    | 0    | 0    | 0\n",
       "20121642     | 1    | 1    | 1    | 0    | 0    | 0    | 0    | 0    | 0    | 0    | 0    | 0    | 0    | 0    | 0    | 0    | 0\n",
       "20122642     | 1    | 1    | 2    | 0    | 0    | 0    | 0    | 0    | 0    | 0    | 0    | 0    | 0    | 0    | 0    | 0    | 0\n",
       "20123642     | 1    | 1    | 1    | 0    | 0    | 0    | 0    | 0    | 0    | 0    | 0    | 0    | 0    | 0    | 0    | 0    | 0\n",
       "20124642     | 1    | 1    | 4    | 0    | 0    | 0    | 0    | 0    | 0    | 0    | 0    | 0    | 0    | 0    | 0    | 0    | 0\n",
       "20125642     | 1    | 1    | 6    | 0    | 0    | 0    | 0    | 0    | 0    | 0    | 0    | 0    | 0    | 0    | 0    | 0    | 0\n",
       "... (4373 rows omitted)"
      ]
     },
     "execution_count": 10,
     "metadata": {},
     "output_type": "execute_result"
    }
   ],
   "source": [
    "household_relations"
   ]
  },
  {
   "cell_type": "code",
   "execution_count": 9,
   "metadata": {
    "collapsed": false
   },
   "outputs": [],
   "source": [
    "other_members = household_relations['4']\n",
    "for i in range(5,10):\n",
    "    other_members += household_relations[str(int(i))]\n",
    "    \n",
    "only_parents_and_children = other_members == 0\n",
    "\n",
    "#is_nuclear['Only Parents And Children'] = only_parents_and_children\n",
    "#is_nuclear\n",
    "\n",
    "def family_is_nuclear(row):\n",
    "    return row[1] and row[2]\n",
    "\n",
    "#is_nuclear['Is Nuclear'] = is_nuclear.apply(family_is_nuclear)\n",
    "#is_nuclear"
   ]
  },
  {
   "cell_type": "markdown",
   "metadata": {},
   "source": [
    "d) Join the 'Is Nuclear' column from the is_nuclear table onto your main data table"
   ]
  },
  {
   "cell_type": "code",
   "execution_count": null,
   "metadata": {
    "collapsed": false
   },
   "outputs": [],
   "source": [
    "data = data.join('Household ID', is_nuclear)"
   ]
  },
  {
   "cell_type": "markdown",
   "metadata": {},
   "source": [
    "<font color=\"Blue\"> Item 3: What percentage of families are nuclear families?"
   ]
  },
  {
   "cell_type": "code",
   "execution_count": null,
   "metadata": {
    "collapsed": false
   },
   "outputs": [],
   "source": [
    "sum(is_nuclear['Is Nuclear'])/is_nuclear.num_rows"
   ]
  },
  {
   "cell_type": "markdown",
   "metadata": {},
   "source": [
    "<font color=\"Blue\"> Item 4: Among nuclear families, what is the average number of children?  Given the reading, what do these two statistics imply about your country's economic development?"
   ]
  },
  {
   "cell_type": "code",
   "execution_count": null,
   "metadata": {
    "collapsed": false
   },
   "outputs": [],
   "source": [
    "nuclear_family = data.where(data['Is Nuclear'])\n",
    "nuclear_family_children = nuclear_family.where('Relationship to HH Head', 3)\n",
    "\n",
    "nuclear_family_children.num_rows /  nuclear_family.group('Household ID').num_rows"
   ]
  },
  {
   "cell_type": "markdown",
   "metadata": {},
   "source": [
    "Let's see if being in a nuclear family is associated with better child health outcomes.  For simplicity, let's just look at 3-year-olds.  \n",
    "<font color=\"Blue\"> Item 5: Compare average Height for age Z scores (HAZ) of 3-year-olds in nuclear families with 3-year-olds not in nuclear families.  Is this what you expected?  Explain why."
   ]
  },
  {
   "cell_type": "code",
   "execution_count": null,
   "metadata": {
    "collapsed": false
   },
   "outputs": [],
   "source": [
    "not_nuclear_family = data.where(data['Is Nuclear'] == False)\n",
    "\n",
    "nuclear_family_children.where('Age', 3)['z_score']"
   ]
  },
  {
   "cell_type": "markdown",
   "metadata": {},
   "source": [
    "In some cases, larger families are associated with greater poverty.  However, some family members in large families may be more valuable to child health than others.  \n",
    "<font color=\"Blue\"> Item 6: Make a graph to compare the HAZ of children in families with no elderly women but elderly men to children in families with no elderly men but elderly women in the family.  "
   ]
  },
  {
   "cell_type": "code",
   "execution_count": null,
   "metadata": {
    "collapsed": true
   },
   "outputs": [],
   "source": []
  },
  {
   "cell_type": "markdown",
   "metadata": {},
   "source": [
    "Child health can be related to income.  We might expect that a larger proportion of earners results in better child health.  On the other hand, we may also want to take into account that more people or children in the household might compete for consuming these resources.  \n",
    "\n",
    "<font color=\"Blue\"> Item 7: Propose a measure of household composition that takes at least these two considerations into account.  (example: ratio of children to adults).  Explain why you think this is a good mesaure to try.\n",
    "\n",
    "<font color=\"Blue\"> Item 8: Make a scatter plot of your measure with HAZ of 3-year-olds.  Did it come out as you expected?  If not, perhaps try a different measure.  If none come out as you expect, why do you think?  What other factors would you like to be able to take into account?"
   ]
  },
  {
   "cell_type": "code",
   "execution_count": null,
   "metadata": {
    "collapsed": true
   },
   "outputs": [],
   "source": []
  }
 ],
 "metadata": {
  "anaconda-cloud": {},
  "kernelspec": {
   "display_name": "Python [ds8]",
   "language": "python",
   "name": "Python [ds8]"
  },
  "language_info": {
   "codemirror_mode": {
    "name": "ipython",
    "version": 3
   },
   "file_extension": ".py",
   "mimetype": "text/x-python",
   "name": "python",
   "nbconvert_exporter": "python",
   "pygments_lexer": "ipython3",
   "version": "3.5.2"
  }
 },
 "nbformat": 4,
 "nbformat_minor": 0
}
